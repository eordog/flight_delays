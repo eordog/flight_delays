{
  "nbformat": 4,
  "nbformat_minor": 0,
  "metadata": {
    "colab": {
      "provenance": []
    },
    "kernelspec": {
      "name": "python3",
      "display_name": "Python 3"
    },
    "language_info": {
      "name": "python"
    },
    "accelerator": "GPU",
    "gpuClass": "standard"
  },
  "cells": [
    {
      "cell_type": "markdown",
      "source": [
        "# Data cleaning\n"
      ],
      "metadata": {
        "id": "4KBKXks45lDY"
      }
    },
    {
      "cell_type": "code",
      "execution_count": 1,
      "metadata": {
        "id": "ecnXiiDiBm7K"
      },
      "outputs": [],
      "source": [
        "import pandas as pd\n",
        "import numpy as np"
      ]
    },
    {
      "cell_type": "code",
      "source": [
        "import tensorflow as tf \n",
        "tf.test.gpu_device_name()\n"
      ],
      "metadata": {
        "colab": {
          "base_uri": "https://localhost:8080/",
          "height": 35
        },
        "id": "9JyvlD_ijQ5v",
        "outputId": "bf09dae3-1684-4043-d805-860e02cf261b"
      },
      "execution_count": 2,
      "outputs": [
        {
          "output_type": "execute_result",
          "data": {
            "text/plain": [
              "'/device:GPU:0'"
            ],
            "application/vnd.google.colaboratory.intrinsic+json": {
              "type": "string"
            }
          },
          "metadata": {},
          "execution_count": 2
        }
      ]
    },
    {
      "cell_type": "code",
      "source": [
        "# Load csv\n",
        "jfk = pd.read_csv('/content/JFK_flight_data.csv')\n",
        "\n",
        "# Drop null values\n",
        "jfk = jfk.dropna()\n",
        "\n",
        "# One-hot encoding for categorical variables\n",
        "one_hot = pd.get_dummies(jfk['OP_UNIQUE_CARRIER'])\n",
        "jfk = jfk.drop('OP_UNIQUE_CARRIER',axis = 1)\n",
        "jfk = jfk.join(one_hot)\n",
        "\n",
        "one_hot = pd.get_dummies(jfk['DEST'])\n",
        "jfk = jfk.drop('DEST',axis = 1)\n",
        "jfk = jfk.join(one_hot)\n",
        "\n",
        "one_hot = pd.get_dummies(jfk['Wind'])\n",
        "jfk = jfk.drop('Wind',axis = 1)\n",
        "jfk = jfk.join(one_hot)\n",
        "\n",
        "one_hot = pd.get_dummies(jfk['Condition'])\n",
        "jfk = jfk.drop('Condition',axis = 1)\n",
        "jfk = jfk.join(one_hot)\n",
        "\n",
        "jfk.loc[jfk['MONTH']==1, 'MONTH'] = 'Jan'\n",
        "jfk.loc[jfk['MONTH']==11, 'MONTH'] = 'Nov'\n",
        "jfk.loc[jfk['MONTH']==12, 'MONTH'] = 'Dec'\n",
        "one_hot = pd.get_dummies(jfk['MONTH'])\n",
        "jfk = jfk.drop('MONTH', axis = 1)\n",
        "jfk = jfk.join(one_hot)\n",
        "\n",
        "# Drop unneeded columns\n",
        "jfk = jfk.drop(columns = ['TAIL_NUM','DEP_TIME_M'])\n",
        "\n",
        "# Change type of Dew Point column to int\n",
        "jfk['Dew Point'] = jfk['Dew Point'].astype(int)\n"
      ],
      "metadata": {
        "id": "z0oAGt2DOc-M"
      },
      "execution_count": 3,
      "outputs": []
    },
    {
      "cell_type": "markdown",
      "source": [
        "# Train-test-validation split"
      ],
      "metadata": {
        "id": "O667Fg5n5o9e"
      }
    },
    {
      "cell_type": "code",
      "source": [
        "# Train-test split\n",
        "\n",
        "from sklearn.model_selection import train_test_split\n",
        "\n",
        "X,y = jfk.loc[:, jfk.columns != 'DEP_DELAY'], jfk.loc[:, 'DEP_DELAY']\n",
        "\n",
        "X_train, X_test, y_train, y_test = train_test_split(X, y, test_size=0.2, random_state=604)\n",
        "\n",
        "# Train-validation split\n",
        "\n",
        "X_train_train, X_val, y_train_train, y_val = train_test_split(X_train, y_train, test_size = 0.2, random_state=604)"
      ],
      "metadata": {
        "id": "g0Ygrf_eC1rI"
      },
      "execution_count": 4,
      "outputs": []
    },
    {
      "cell_type": "code",
      "source": [
        "# Test baseline model of average\n",
        "\n",
        "from sklearn.metrics import mean_squared_error as mse\n",
        "\n",
        "print('rmse for validation set is', np.sqrt(mse(y_val, y_train.mean()*np.ones(len(y_val)))))\n",
        "print('rmse for test set is', np.sqrt(mse(y_test, y_train.mean()*np.ones(len(y_test)))))"
      ],
      "metadata": {
        "colab": {
          "base_uri": "https://localhost:8080/"
        },
        "id": "UUcVEBTF1Vkc",
        "outputId": "6a2faf66-23c5-4b62-84f3-7280445ad7e5"
      },
      "execution_count": null,
      "outputs": [
        {
          "output_type": "stream",
          "name": "stdout",
          "text": [
            "rmse for validation set is 37.02477781979254\n",
            "rmse for test set is 36.235234518989124\n"
          ]
        }
      ]
    },
    {
      "cell_type": "markdown",
      "source": [
        "# Decision tree regressors"
      ],
      "metadata": {
        "id": "wlRRNtGK65Hw"
      }
    },
    {
      "cell_type": "code",
      "source": [
        "# Decision tree regressor with default hyperparameters\n",
        "\n",
        "from sklearn.tree import DecisionTreeRegressor\n",
        "from sklearn.metrics import mean_squared_error as mse  \n",
        "\n",
        "\n",
        "reg = DecisionTreeRegressor()\n",
        "model = reg.fit(X_train_train,y_train_train)\n",
        "pred = model.predict(X_val)\n",
        "\n",
        "print('rmse is ', np.sqrt(mse(y_val, pred)))"
      ],
      "metadata": {
        "colab": {
          "base_uri": "https://localhost:8080/"
        },
        "id": "EaUUUOrXVBlg",
        "outputId": "b084ac8d-c04d-4b27-e8b1-e71f1e5bebe2"
      },
      "execution_count": null,
      "outputs": [
        {
          "output_type": "stream",
          "name": "stdout",
          "text": [
            "rmse is  36.75231415797062\n"
          ]
        }
      ]
    },
    {
      "cell_type": "code",
      "source": [
        "# Hyperparameter tuning with GridSearchCV\n",
        "\n",
        "from sklearn.model_selection import GridSearchCV\n",
        "\n",
        "param_grid = { \n",
        "    'splitter': ['best','random'],\n",
        "    'min_samples_leaf': [1,3,10],\n",
        "    'min_weight_fraction_leaf': [0.0,0.2,0.5],\n",
        "    'max_features': ['log2','sqrt',None],\n",
        "    'max_depth': [None,5,10,50,100],\n",
        "    'min_samples_split': [2,5,10,20]\n",
        "}\n",
        "\n",
        "grid_cv = GridSearchCV(DecisionTreeRegressor(),\n",
        "                          param_grid = param_grid, \n",
        "                          cv = 5,\n",
        "                          verbose=0.5)\n",
        "\n",
        "grid_cv.fit(X_train, y_train)\n",
        "\n",
        "print(grid_cv.best_params_)"
      ],
      "metadata": {
        "colab": {
          "base_uri": "https://localhost:8080/"
        },
        "id": "x70JqqNDAICJ",
        "outputId": "efc7c9e7-c63b-455f-b33b-5161c7f36b97"
      },
      "execution_count": null,
      "outputs": [
        {
          "output_type": "stream",
          "name": "stdout",
          "text": [
            "Fitting 5 folds for each of 1080 candidates, totalling 5400 fits\n",
            "{'max_depth': 5, 'max_features': None, 'min_samples_leaf': 3, 'min_samples_split': 20, 'min_weight_fraction_leaf': 0.0, 'splitter': 'best'}\n"
          ]
        }
      ]
    },
    {
      "cell_type": "code",
      "source": [
        "# Getting rmse on validation set with best hyperparameters\n",
        "\n",
        "reg = DecisionTreeRegressor(\n",
        "    max_depth=5,\n",
        "    max_features=None,\n",
        "    min_samples_leaf=3,\n",
        "    min_samples_split=20,\n",
        "    min_weight_fraction_leaf = 0,\n",
        "    splitter='best'\n",
        ")\n",
        "model = reg.fit(X_train_train,y_train_train)\n",
        "pred = model.predict(X_val)\n",
        "\n",
        "print('rmse is ', np.sqrt(mse(y_val, pred)))"
      ],
      "metadata": {
        "colab": {
          "base_uri": "https://localhost:8080/"
        },
        "id": "RRk7-YmJDugH",
        "outputId": "82bf595d-0f7e-4517-cb76-9b4ef7942a8d"
      },
      "execution_count": null,
      "outputs": [
        {
          "output_type": "stream",
          "name": "stdout",
          "text": [
            "rmse is  34.20431802031378\n"
          ]
        }
      ]
    },
    {
      "cell_type": "code",
      "source": [
        "# Fine-tuning hyperparameters\n",
        "\n",
        "from sklearn.model_selection import GridSearchCV\n",
        "\n",
        "param_grid = { \n",
        "    'splitter': ['best'],\n",
        "    'min_samples_leaf': [2,3,4,5,6],\n",
        "    'min_weight_fraction_leaf': [0],\n",
        "    'max_features': [None],\n",
        "    'max_depth': [3,4,5,6,7],\n",
        "    'min_samples_split': [15,20,25,30]\n",
        "}\n",
        "\n",
        "grid_cv = GridSearchCV(DecisionTreeRegressor(),\n",
        "                          param_grid = param_grid, \n",
        "                          cv = 5,\n",
        "                          verbose=0.5)\n",
        "\n",
        "grid_cv.fit(X_train, y_train)\n",
        "\n",
        "print(grid_cv.best_params_)"
      ],
      "metadata": {
        "colab": {
          "base_uri": "https://localhost:8080/"
        },
        "id": "LcvYMVaCExgy",
        "outputId": "f21a8fc6-42b5-40d8-80bf-a596c301026a"
      },
      "execution_count": null,
      "outputs": [
        {
          "output_type": "stream",
          "name": "stdout",
          "text": [
            "Fitting 5 folds for each of 100 candidates, totalling 500 fits\n",
            "{'max_depth': 7, 'max_features': None, 'min_samples_leaf': 5, 'min_samples_split': 30, 'min_weight_fraction_leaf': 0, 'splitter': 'best'}\n"
          ]
        }
      ]
    },
    {
      "cell_type": "code",
      "source": [
        "# Getting rmse on validation set with best hyperparameters\n",
        "\n",
        "reg = DecisionTreeRegressor(\n",
        "    max_depth=7,\n",
        "    max_features=None,\n",
        "    min_samples_leaf=5,\n",
        "    min_samples_split=30,\n",
        "    min_weight_fraction_leaf = 0,\n",
        "    splitter='best'\n",
        ")\n",
        "model = reg.fit(X_train_train,y_train_train)\n",
        "pred = model.predict(X_val)\n",
        "\n",
        "print('rmse is ', np.sqrt(mse(y_val, pred)))"
      ],
      "metadata": {
        "colab": {
          "base_uri": "https://localhost:8080/"
        },
        "id": "lEy-kdiuFMMt",
        "outputId": "f4b9cf13-0cda-4cf0-a1a1-efc1636ee667"
      },
      "execution_count": null,
      "outputs": [
        {
          "output_type": "stream",
          "name": "stdout",
          "text": [
            "rmse is  32.47632457664007\n"
          ]
        }
      ]
    },
    {
      "cell_type": "code",
      "source": [
        "##pruning the decision tree to reduce variance and overfitting\n",
        "\n",
        "import matplotlib.pyplot as plt\n",
        "\n",
        "clf = DecisionTreeRegressor()\n",
        "path = clf.cost_complexity_pruning_path(X_train_train, y_train_train)\n",
        "ccp_alphas, impurities = path.ccp_alphas, path.impurities\n",
        "\n",
        "fig, ax = plt.subplots()\n",
        "ax.plot(ccp_alphas[:-1], impurities[:-1], marker=\"o\", drawstyle=\"steps-post\")\n",
        "ax.set_xlabel(\"effective alpha\")\n",
        "ax.set_ylabel(\"total impurity of leaves\")\n",
        "ax.set_title(\"Total Impurity vs effective alpha for training set\")\n",
        "\n",
        "\n"
      ],
      "metadata": {
        "colab": {
          "base_uri": "https://localhost:8080/",
          "height": 312
        },
        "id": "81lzS0WtQUQB",
        "outputId": "165ec68a-ba7f-40a1-ced7-d257b23dd34e"
      },
      "execution_count": null,
      "outputs": [
        {
          "output_type": "execute_result",
          "data": {
            "text/plain": [
              "Text(0.5, 1.0, 'Total Impurity vs effective alpha for training set')"
            ]
          },
          "metadata": {},
          "execution_count": 19
        },
        {
          "output_type": "display_data",
          "data": {
            "text/plain": [
              "<Figure size 432x288 with 1 Axes>"
            ],
            "image/png": "[encoded data removed]"
          },
          "metadata": {
            "needs_background": "light"
          }
        }
      ]
    },
    {
      "cell_type": "code",
      "source": [
        "print(len(ccp_alphas))\n",
        "\n",
        "##to reduce the runtime, I'll take every 100th value of ccp_alphas\n",
        "# and include the last 100 values\n",
        "ccp_alphas = np.append(ccp_alphas[:-100:100], ccp_alphas[-100:])"
      ],
      "metadata": {
        "colab": {
          "base_uri": "https://localhost:8080/"
        },
        "id": "4iIe0f-r8zp4",
        "outputId": "489bc3bb-8ef6-45c8-b533-d32b0ba39411"
      },
      "execution_count": null,
      "outputs": [
        {
          "output_type": "stream",
          "name": "stdout",
          "text": [
            "12708\n"
          ]
        }
      ]
    },
    {
      "cell_type": "code",
      "source": [
        "len(ccp_alphas)"
      ],
      "metadata": {
        "colab": {
          "base_uri": "https://localhost:8080/"
        },
        "id": "CN1_dxHi-PDz",
        "outputId": "4e1542db-eb11-4ebe-90da-613c937ac2e8"
      },
      "execution_count": null,
      "outputs": [
        {
          "output_type": "execute_result",
          "data": {
            "text/plain": [
              "227"
            ]
          },
          "metadata": {},
          "execution_count": 21
        }
      ]
    },
    {
      "cell_type": "code",
      "source": [
        "clfs = []\n",
        "for ccp_alpha in ccp_alphas:\n",
        "    clf = DecisionTreeRegressor(random_state=0, ccp_alpha=ccp_alpha)\n",
        "    clf.fit(X_train_train, y_train_train)\n",
        "    clfs.append(clf)\n",
        "print(\n",
        "    \"Number of nodes in the last tree is: {} with ccp_alpha: {}\".format(\n",
        "        clfs[-1].tree_.node_count, ccp_alphas[-1]\n",
        "    )\n",
        ")\n",
        "\n",
        "clfs = clfs[:-1]\n",
        "ccp_alphas = ccp_alphas[:-1]\n",
        "\n",
        "node_counts = [clf.tree_.node_count for clf in clfs]\n",
        "depth = [clf.tree_.max_depth for clf in clfs]\n",
        "fig, ax = plt.subplots(2, 1)\n",
        "ax[0].plot(ccp_alphas, node_counts, marker=\"o\", drawstyle=\"steps-post\")\n",
        "ax[0].set_xlabel(\"alpha\")\n",
        "ax[0].set_ylabel(\"number of nodes\")\n",
        "ax[0].set_title(\"Number of nodes vs alpha\")\n",
        "ax[1].plot(ccp_alphas, depth, marker=\"o\", drawstyle=\"steps-post\")\n",
        "ax[1].set_xlabel(\"alpha\")\n",
        "ax[1].set_ylabel(\"depth of tree\")\n",
        "ax[1].set_title(\"Depth vs alpha\")\n",
        "fig.tight_layout()\n"
      ],
      "metadata": {
        "colab": {
          "base_uri": "https://localhost:8080/",
          "height": 314
        },
        "id": "mvwoxe2tYNyV",
        "outputId": "a5edbf21-8057-401a-eca8-053ec8d54b3d"
      },
      "execution_count": null,
      "outputs": [
        {
          "output_type": "stream",
          "name": "stdout",
          "text": [
            "Number of nodes in the last tree is: 1 with ccp_alpha: 54.53541822630647\n"
          ]
        },
        {
          "output_type": "display_data",
          "data": {
            "text/plain": [
              "<Figure size 432x288 with 2 Axes>"
            ],
            "image/png": "[encoded data removed]"
          },
          "metadata": {
            "needs_background": "light"
          }
        }
      ]
    },
    {
      "cell_type": "code",
      "source": [
        "train_scores = [clf.score(X_train_train, y_train_train) for clf in clfs]\n",
        "val_scores = [clf.score(X_val, y_val) for clf in clfs]\n",
        "\n",
        "fig, ax = plt.subplots()\n",
        "ax.set_xlabel(\"alpha\")\n",
        "ax.set_ylabel(\"R-squared\")\n",
        "ax.set_title(\"R-squared vs alpha for training and validation sets\")\n",
        "ax.plot(ccp_alphas, train_scores, marker=\"o\", label=\"train\", drawstyle=\"steps-post\")\n",
        "ax.plot(ccp_alphas, val_scores, marker=\"o\", label=\"validation\", drawstyle=\"steps-post\")\n",
        "ax.legend()\n",
        "plt.show()"
      ],
      "metadata": {
        "colab": {
          "base_uri": "https://localhost:8080/",
          "height": 295
        },
        "id": "FgKFb0uxYX4V",
        "outputId": "0fe50746-7253-4139-8315-3dd87d306dce"
      },
      "execution_count": null,
      "outputs": [
        {
          "output_type": "display_data",
          "data": {
            "text/plain": [
              "<Figure size 432x288 with 1 Axes>"
            ],
            "image/png": "[encoded data removed]"
          },
          "metadata": {
            "needs_background": "light"
          }
        }
      ]
    },
    {
      "cell_type": "code",
      "source": [
        "print(val_scores)"
      ],
      "metadata": {
        "colab": {
          "base_uri": "https://localhost:8080/"
        },
        "id": "nnVk9cqMtlVj",
        "outputId": "be68d7f5-7fd8-48ff-be0c-324f01d82634"
      },
      "execution_count": null,
      "outputs": [
        {
          "output_type": "stream",
          "name": "stdout",
          "text": [
            "[0.03091188753519125, 0.031226267500291782, 0.031226267500291782, 0.031226267500291782, 0.031226267500291782, 0.031226267500291782, 0.031226267500291782, 0.031226267500291782, 0.031226267500291782, 0.031226267500291782, 0.031226267500291782, 0.031226267500291782, 0.031226267500291782, 0.031226267500291782, 0.031226267500291782, 0.031226267500291782, 0.031228838552402327, 0.031188624245742647, 0.03114764843233153, 0.031161289458160324, 0.031156033444342257, 0.031138771218357952, 0.031160305054234616, 0.03117503595583826, 0.03123787850064963, 0.03123787850064963, 0.031241620841985562, 0.03125906015235458, 0.03122735089425821, 0.031228071618561115, 0.03136468828287309, 0.03135775680478403, 0.03134964865637724, 0.03157527846338992, 0.03157527846338992, 0.03157527846338992, 0.03157527846338992, 0.03157527846338992, 0.03157527846338992, 0.031555021990197774, 0.031566948526274285, 0.03158263012565565, 0.03157830569287601, 0.03155714100847151, 0.03156088067621465, 0.03158679194617864, 0.031560108381670116, 0.03155778552804478, 0.03155453278966858, 0.03157765419660852, 0.03158826219090838, 0.03133901924457949, 0.03133901924457949, 0.031361071669894436, 0.031395407381362594, 0.03144855716007178, 0.03156518274956244, 0.03159941483573492, 0.03160770559542514, 0.031648906444990965, 0.0316795916519107, 0.031314071524956244, 0.031316533649629275, 0.031197359786463763, 0.03120627102038287, 0.031343550909360585, 0.03146030049883275, 0.03157142597134177, 0.031421712221873954, 0.03153008142640368, 0.03134201069748732, 0.031249063630387375, 0.031414775078398516, 0.03178358022226779, 0.03183645361229048, 0.03178125166108814, 0.031654215408584374, 0.03141916882731499, 0.031624069791276854, 0.03172004713726273, 0.03195300143014912, 0.03197476143064215, 0.032740523195887716, 0.03258651121764988, 0.03249249316795633, 0.032414647194401236, 0.03231201039532361, 0.032658576384252735, 0.03261097979828076, 0.03215333689473199, 0.03305908747418318, 0.033658337061738375, 0.03388702242019892, 0.034142369392450855, 0.0351380834225784, 0.0349813053907132, 0.03537847051384735, 0.035146612861720605, 0.03495039160585489, 0.035063589448461, 0.035796443997019534, 0.03580904038071486, 0.03664523106969464, 0.03641218266476265, 0.037054940777033085, 0.03709821453668771, 0.03703781895190161, 0.0375184935230064, 0.039017071263698355, 0.04025171060099231, 0.040742943191238945, 0.04398551154680308, 0.04423263638741892, 0.04395310660109908, 0.04681720527018507, 0.04808782228374253, 0.04944238727825545, 0.05071983944150005, 0.05036399488979537, 0.04518369594542293, 0.05622584074203474, 0.07305797082098497, 0.08828766864639448, 0.08139294543919484, 0.08901687323860585, 0.11431280719257175, 0.164186363024159, 0.1561307142162478, 0.15618906972711288, 0.15616822020921606, 0.16275592511835257, 0.1622311556053998, 0.16216206549398482, 0.17026514630782352, 0.17045652931563327, 0.17532844219320087, 0.17311354176374782, 0.17207644118754928, 0.17449526226234002, 0.174101289696319, 0.17656229951078617, 0.17669794317014564, 0.17669794317014564, 0.17669793901871056, 0.18660513409973256, 0.18711170176448144, 0.18711170176448144, 0.18807178612783437, 0.18941112217097966, 0.1891931835970473, 0.18920554361355668, 0.19184842531728186, 0.19565298052282942, 0.1953282766086648, 0.19729360132048468, 0.20552068413680114, 0.19959076227946282, 0.19587945646311755, 0.2042374340908023, 0.20531673068773404, 0.20522183998163013, 0.20533686519020666, 0.20525691088558629, 0.20392555163081316, 0.20308090202306817, 0.20308653328611437, 0.2030616686897485, 0.2010691648813976, 0.21620168781765337, 0.21699204845278708, 0.21654043477391216, 0.21420704923378808, 0.2140901290264654, 0.21335505050722914, 0.20841332091616416, 0.20505867976673364, 0.20171456294830714, 0.203937644503151, 0.20371517085145996, 0.20359215566856892, 0.2203736435072603, 0.2170356352667664, 0.22037964526817855, 0.21807693369016856, 0.20433258280879574, 0.20198930733780218, 0.20198930733780218, 0.20384510899007624, 0.20366965545998428, 0.20367226661104842, 0.19760227819153298, 0.19314251191168352, 0.20245577068048692, 0.20245577068048692, 0.20295470340832233, 0.21144725164439093, 0.2094880220717148, 0.21014610745562345, 0.2361162485490904, 0.23449072437702512, 0.2333786683522946, 0.23139267395845065, 0.23141539337338146, 0.2318193748484908, 0.22191544503241234, 0.22190348575558572, 0.22190348575558572, 0.2216542277686281, 0.21554165108100054, 0.2118347661969162, 0.2096971568291457, 0.21167897326641483, 0.17831969098502298, 0.2141098051439888, 0.2143373818100529, 0.2102028853217479, 0.18573337198229156, 0.19965950001663868, 0.1938780497386322, 0.1901373569132485, 0.18864758444370033, 0.18456058384091156, 0.18140419002374586, 0.14819423992607172, 0.09846230258604327, 0.09754656167123144]\n"
          ]
        }
      ]
    },
    {
      "cell_type": "code",
      "source": [
        "rmses = [np.sqrt(mse(clf.predict(X_val), y_val)) for clf in clfs]\n",
        "print(rmses)\n",
        "print('the minimum rmse is ',min(rmses))"
      ],
      "metadata": {
        "colab": {
          "base_uri": "https://localhost:8080/"
        },
        "id": "uDzpv2HltoUW",
        "outputId": "3f93478f-6283-41b1-e22a-3d5ab7cf0ad8"
      },
      "execution_count": null,
      "outputs": [
        {
          "output_type": "stream",
          "name": "stdout",
          "text": [
            "[36.44770289919009, 36.44179045589918, 36.44179045589918, 36.44179045589918, 36.44179045589918, 36.44179045589918, 36.44179045589918, 36.44179045589918, 36.44179045589918, 36.44179045589918, 36.44179045589918, 36.44179045589918, 36.44179045589918, 36.44179045589918, 36.44179045589918, 36.44179045589918, 36.44174209899122, 36.44249845108053, 36.44326910946932, 36.443012555762124, 36.44311140849979, 36.44343606677515, 36.44303107000765, 36.44275401656513, 36.44157207316663, 36.44157207316663, 36.44150168595279, 36.44117367974814, 36.44177007919736, 36.44175652365663, 36.439186916402406, 36.43931729414663, 36.439469803897396, 36.43522559474287, 36.43522559474287, 36.43522559474287, 36.43522559474287, 36.43522559474287, 36.43522559474287, 36.43560664930225, 36.43538229380197, 36.43508729799375, 36.43516864768596, 36.435566787585635, 36.435496439064764, 36.435009007133985, 36.43551096704539, 36.43555466325654, 36.43561585184664, 36.43518090338641, 36.43498134931197, 36.43966973623992, 36.43966973623992, 36.43925494319832, 36.438609099429755, 36.43760934648952, 36.43541551071878, 36.43477154827367, 36.43461558359003, 36.43384050871007, 36.43326324453433, 36.44013898235829, 36.4400926720839, 36.44233415405906, 36.44216655185739, 36.43958449869841, 36.43738844934957, 36.43529806618755, 36.43811430603527, 36.436075813138125, 36.43961346906166, 36.44136169908254, 36.43824479418347, 36.43130689586747, 36.430312142547066, 36.43135070450065, 36.43374063470815, 36.438162147516955, 36.434307740525064, 36.43250216342423, 36.42811933060556, 36.42770990815484, 36.41329888604097, 36.41619772606835, 36.417967236596276, 36.41943230796296, 36.421363855822875, 36.41484133179542, 36.415737189640524, 36.42434977095167, 36.40730208176008, 36.39601884731701, 36.39171202219556, 36.3869024772523, 36.368141797258865, 36.37109636205181, 36.36361110936216, 36.36798104858986, 36.371678920322346, 36.369545705464205, 36.35573202335051, 36.35549454639716, 36.33972654956747, 36.34412181674065, 36.33199818065715, 36.33118181018726, 36.332321183173434, 36.32325218589817, 36.294963631060895, 36.27164084834332, 36.262357115925624, 36.20101656831564, 36.196337377379116, 36.201630095647026, 36.14736350474179, 36.123262790895005, 36.09755205410582, 36.07328819123497, 36.080048724564044, 36.17832387219544, 35.968520164969696, 35.64632942599154, 35.352281246794824, 35.485703323991004, 35.33814071054951, 34.844056682153756, 33.84879834442449, 34.0115261062592, 34.01035009812112, 34.010770272236805, 33.87775091441273, 33.888366233480944, 33.88976357759566, 33.72548437595559, 33.72159466537834, 33.622425299874685, 33.667546528758976, 33.68865322974573, 33.63940567082071, 33.64743192523957, 33.59726327986786, 33.594495952463504, 33.594495952463504, 33.594496037162294, 33.39175479561476, 33.38135528462929, 33.38135528462929, 33.3616364708852, 33.33410886229389, 33.338589740395086, 33.3383356311044, 33.283956130526164, 33.20551785240169, 33.212219483317426, 33.171636039169016, 33.001207181829535, 33.124137238447396, 33.20084276805961, 33.02784834985349, 33.005442835284185, 33.007413316109364, 33.0050247112306, 33.00668505465792, 33.03432000228737, 33.0518403662223, 33.05172358903843, 33.052239210489354, 33.09353199161496, 32.77862193157241, 32.76209123336848, 32.77153792908805, 32.8203035475882, 32.822745166566484, 32.83809149109219, 32.94107499629433, 33.01080119247009, 33.08016236318569, 33.03406909526952, 33.03868474914153, 33.04123666445, 32.69126947460409, 32.761179355624115, 32.69114364153067, 32.739386847576476, 33.025873733612976, 33.074469304834494, 33.074469304834494, 33.0359890049878, 33.03962897608586, 33.03957480790448, 33.16525742963242, 33.2572967887353, 33.064801337439356, 33.064801337439356, 33.054457276370975, 32.87788742146581, 32.91870610333581, 32.90500116881474, 32.359527030827024, 32.39393883729434, 32.417459650503744, 32.45942251301454, 32.458942772246225, 32.45041115776803, 32.658928088853884, 32.65917907421183, 32.65917907421183, 32.664409729563445, 32.792420469731226, 32.86980792043485, 32.914351393224614, 32.8730563704115, 33.561392271928945, 32.82233428724211, 32.81758162695007, 32.90381847582252, 33.40964393693837, 33.122714886594096, 33.242134521759255, 33.319172922920046, 33.34980477153874, 33.433695233163974, 33.4983401246164, 34.17108867520409, 35.15446352888592, 35.17231314845527]\n",
            "the minimum rmse is  32.359527030827024\n"
          ]
        }
      ]
    },
    {
      "cell_type": "code",
      "source": [
        "print(node_counts)"
      ],
      "metadata": {
        "colab": {
          "base_uri": "https://localhost:8080/"
        },
        "id": "27FRn49Iur_5",
        "outputId": "ea83ea3d-fb82-4738-d70d-fcf290a26c06"
      },
      "execution_count": null,
      "outputs": [
        {
          "output_type": "stream",
          "name": "stdout",
          "text": [
            "[30223, 26913, 26913, 26913, 26913, 26913, 26913, 26913, 26913, 26913, 26913, 26913, 26913, 26913, 26913, 26913, 26865, 26599, 26247, 26169, 26005, 25779, 25587, 25415, 24981, 24981, 24801, 24595, 24393, 24183, 23937, 23671, 23581, 22229, 22229, 22229, 22229, 22229, 22229, 22107, 21713, 21661, 21429, 21235, 20959, 20813, 20529, 20367, 20137, 19949, 19737, 19203, 19203, 19123, 18889, 18679, 18401, 18211, 18003, 17785, 17559, 17245, 17143, 16931, 16723, 16493, 16281, 16037, 15831, 15577, 15367, 15155, 14907, 14701, 14457, 14227, 14003, 13703, 13503, 13283, 13045, 12779, 12533, 12321, 12065, 11837, 11579, 11345, 11107, 10865, 10613, 10385, 10141, 9873, 9639, 9379, 9087, 8895, 8591, 8391, 8101, 7905, 7651, 7405, 7145, 6861, 6591, 6337, 6081, 5811, 5507, 5221, 4957, 4709, 4389, 4111, 3821, 3483, 3183, 2873, 2571, 2275, 1947, 1645, 1327, 943, 507, 465, 463, 459, 433, 431, 429, 427, 425, 417, 415, 413, 411, 409, 407, 395, 393, 389, 381, 379, 377, 371, 353, 351, 343, 341, 335, 331, 315, 307, 305, 303, 297, 295, 293, 289, 281, 263, 261, 257, 255, 253, 251, 249, 245, 243, 241, 239, 237, 217, 215, 209, 207, 205, 199, 197, 187, 167, 165, 161, 161, 141, 137, 135, 133, 129, 127, 125, 123, 117, 115, 111, 105, 103, 99, 95, 91, 89, 87, 83, 83, 77, 75, 73, 71, 69, 67, 65, 61, 59, 55, 53, 51, 49, 45, 43, 33, 19, 17, 13]\n"
          ]
        }
      ]
    },
    {
      "cell_type": "code",
      "source": [
        "##number of nodes in tree that gives minimum rmse\n",
        "\n",
        "index = np.where(rmses == min(rmses))\n",
        "print('the number of nodes in the best decision tree is ',node_counts[index[0].item()])\n",
        "print('the best ccp_alpha is', ccp_alphas[index].item())"
      ],
      "metadata": {
        "colab": {
          "base_uri": "https://localhost:8080/"
        },
        "id": "Rpl0tZlSzYOU",
        "outputId": "c880fd4b-e22d-4ded-fd09-55173127ab17"
      },
      "execution_count": null,
      "outputs": [
        {
          "output_type": "stream",
          "name": "stdout",
          "text": [
            "the number of nodes in the best decision tree is  105\n",
            "the best ccp_alpha is 3.742977327945989\n"
          ]
        }
      ]
    },
    {
      "cell_type": "code",
      "source": [
        "reg = DecisionTreeRegressor(ccp_alpha= 3.7429773279)\n",
        "model = reg.fit(X_train_train,y_train_train)\n",
        "pred = model.predict(X_val)\n",
        "np.sqrt(mse(pred, y_val))"
      ],
      "metadata": {
        "colab": {
          "base_uri": "https://localhost:8080/"
        },
        "id": "2yOtXGteHdo6",
        "outputId": "9313b31c-0dd4-480a-8d3b-74a39f9dc398"
      },
      "execution_count": null,
      "outputs": [
        {
          "output_type": "execute_result",
          "data": {
            "text/plain": [
              "32.811906942764345"
            ]
          },
          "metadata": {},
          "execution_count": 37
        }
      ]
    },
    {
      "cell_type": "code",
      "source": [
        "# Hyperparameter tuning with GridSearchCV using ccp_alpha from above\n",
        "\n",
        "from sklearn.model_selection import GridSearchCV\n",
        "\n",
        "ccp_alpha = 3.74297732794\n",
        "\n",
        "param_grid = { \n",
        "    'ccp_alpha': [ccp_alpha],\n",
        "    'splitter': ['best','random'],\n",
        "    'min_samples_leaf': [1,3,10],\n",
        "    'min_weight_fraction_leaf': [0.0,0.2,0.5],\n",
        "    'max_features': ['log2','sqrt',None],\n",
        "    'max_depth': [None,5,50,100],\n",
        "    'max_leaf_nodes': [None,10,50,100]\n",
        "}\n",
        "\n",
        "grid_cv = GridSearchCV(DecisionTreeRegressor(),\n",
        "                          param_grid = param_grid, \n",
        "                          cv = 5,\n",
        "                          verbose=0.5)\n",
        "\n",
        "grid_cv.fit(X_train, y_train)"
      ],
      "metadata": {
        "colab": {
          "base_uri": "https://localhost:8080/",
          "height": 135
        },
        "id": "MQxwkaDK0x_o",
        "outputId": "18793062-0b10-47ae-888e-c958bb5d6ed3"
      },
      "execution_count": null,
      "outputs": [
        {
          "output_type": "stream",
          "name": "stdout",
          "text": [
            "Fitting 5 folds for each of 864 candidates, totalling 4320 fits\n"
          ]
        },
        {
          "output_type": "execute_result",
          "data": {
            "text/plain": [
              "GridSearchCV(cv=5, estimator=DecisionTreeRegressor(),\n",
              "             param_grid={'ccp_alpha': [3.74297732794],\n",
              "                         'max_depth': [None, 5, 50, 100],\n",
              "                         'max_features': ['log2', 'sqrt', None],\n",
              "                         'max_leaf_nodes': [None, 10, 50, 100],\n",
              "                         'min_samples_leaf': [1, 3, 10],\n",
              "                         'min_weight_fraction_leaf': [0.0, 0.2, 0.5],\n",
              "                         'splitter': ['best', 'random']},\n",
              "             verbose=0.5)"
            ],
            "text/html": [
              "<style>#sk-container-id-1 {color: black;background-color: white;}#sk-container-id-1 pre{padding: 0;}#sk-container-id-1 div.sk-toggleable {background-color: white;}#sk-container-id-1 label.sk-toggleable__label {cursor: pointer;display: block;width: 100%;margin-bottom: 0;padding: 0.3em;box-sizing: border-box;text-align: center;}#sk-container-id-1 label.sk-toggleable__label-arrow:before {content: \"▸\";float: left;margin-right: 0.25em;color: #696969;}#sk-container-id-1 label.sk-toggleable__label-arrow:hover:before {color: black;}#sk-container-id-1 div.sk-estimator:hover label.sk-toggleable__label-arrow:before {color: black;}#sk-container-id-1 div.sk-toggleable__content {max-height: 0;max-width: 0;overflow: hidden;text-align: left;background-color: #f0f8ff;}#sk-container-id-1 div.sk-toggleable__content pre {margin: 0.2em;color: black;border-radius: 0.25em;background-color: #f0f8ff;}#sk-container-id-1 input.sk-toggleable__control:checked~div.sk-toggleable__content {max-height: 200px;max-width: 100%;overflow: auto;}#sk-container-id-1 input.sk-toggleable__control:checked~label.sk-toggleable__label-arrow:before {content: \"▾\";}#sk-container-id-1 div.sk-estimator input.sk-toggleable__control:checked~label.sk-toggleable__label {background-color: #d4ebff;}#sk-container-id-1 div.sk-label input.sk-toggleable__control:checked~label.sk-toggleable__label {background-color: #d4ebff;}#sk-container-id-1 input.sk-hidden--visually {border: 0;clip: rect(1px 1px 1px 1px);clip: rect(1px, 1px, 1px, 1px);height: 1px;margin: -1px;overflow: hidden;padding: 0;position: absolute;width: 1px;}#sk-container-id-1 div.sk-estimator {font-family: monospace;background-color: #f0f8ff;border: 1px dotted black;border-radius: 0.25em;box-sizing: border-box;margin-bottom: 0.5em;}#sk-container-id-1 div.sk-estimator:hover {background-color: #d4ebff;}#sk-container-id-1 div.sk-parallel-item::after {content: \"\";width: 100%;border-bottom: 1px solid gray;flex-grow: 1;}#sk-container-id-1 div.sk-label:hover label.sk-toggleable__label {background-color: #d4ebff;}#sk-container-id-1 div.sk-serial::before {content: \"\";position: absolute;border-left: 1px solid gray;box-sizing: border-box;top: 0;bottom: 0;left: 50%;z-index: 0;}#sk-container-id-1 div.sk-serial {display: flex;flex-direction: column;align-items: center;background-color: white;padding-right: 0.2em;padding-left: 0.2em;position: relative;}#sk-container-id-1 div.sk-item {position: relative;z-index: 1;}#sk-container-id-1 div.sk-parallel {display: flex;align-items: stretch;justify-content: center;background-color: white;position: relative;}#sk-container-id-1 div.sk-item::before, #sk-container-id-1 div.sk-parallel-item::before {content: \"\";position: absolute;border-left: 1px solid gray;box-sizing: border-box;top: 0;bottom: 0;left: 50%;z-index: -1;}#sk-container-id-1 div.sk-parallel-item {display: flex;flex-direction: column;z-index: 1;position: relative;background-color: white;}#sk-container-id-1 div.sk-parallel-item:first-child::after {align-self: flex-end;width: 50%;}#sk-container-id-1 div.sk-parallel-item:last-child::after {align-self: flex-start;width: 50%;}#sk-container-id-1 div.sk-parallel-item:only-child::after {width: 0;}#sk-container-id-1 div.sk-dashed-wrapped {border: 1px dashed gray;margin: 0 0.4em 0.5em 0.4em;box-sizing: border-box;padding-bottom: 0.4em;background-color: white;}#sk-container-id-1 div.sk-label label {font-family: monospace;font-weight: bold;display: inline-block;line-height: 1.2em;}#sk-container-id-1 div.sk-label-container {text-align: center;}#sk-container-id-1 div.sk-container {/* jupyter's `normalize.less` sets `[hidden] { display: none; }` but bootstrap.min.css set `[hidden] { display: none !important; }` so we also need the `!important` here to be able to override the default hidden behavior on the sphinx rendered scikit-learn.org. See: https://github.com/scikit-learn/scikit-learn/issues/21755 */display: inline-block !important;position: relative;}#sk-container-id-1 div.sk-text-repr-fallback {display: none;}</style><div id=\"sk-container-id-1\" class=\"sk-top-container\"><div class=\"sk-text-repr-fallback\"><pre>GridSearchCV(cv=5, estimator=DecisionTreeRegressor(),\n",
              "             param_grid={&#x27;ccp_alpha&#x27;: [3.74297732794],\n",
              "                         &#x27;max_depth&#x27;: [None, 5, 50, 100],\n",
              "                         &#x27;max_features&#x27;: [&#x27;log2&#x27;, &#x27;sqrt&#x27;, None],\n",
              "                         &#x27;max_leaf_nodes&#x27;: [None, 10, 50, 100],\n",
              "                         &#x27;min_samples_leaf&#x27;: [1, 3, 10],\n",
              "                         &#x27;min_weight_fraction_leaf&#x27;: [0.0, 0.2, 0.5],\n",
              "                         &#x27;splitter&#x27;: [&#x27;best&#x27;, &#x27;random&#x27;]},\n",
              "             verbose=0.5)</pre><b>In a Jupyter environment, please rerun this cell to show the HTML representation or trust the notebook. <br />On GitHub, the HTML representation is unable to render, please try loading this page with nbviewer.org.</b></div><div class=\"sk-container\" hidden><div class=\"sk-item sk-dashed-wrapped\"><div class=\"sk-label-container\"><div class=\"sk-label sk-toggleable\"><input class=\"sk-toggleable__control sk-hidden--visually\" id=\"sk-estimator-id-1\" type=\"checkbox\" ><label for=\"sk-estimator-id-1\" class=\"sk-toggleable__label sk-toggleable__label-arrow\">GridSearchCV</label><div class=\"sk-toggleable__content\"><pre>GridSearchCV(cv=5, estimator=DecisionTreeRegressor(),\n",
              "             param_grid={&#x27;ccp_alpha&#x27;: [3.74297732794],\n",
              "                         &#x27;max_depth&#x27;: [None, 5, 50, 100],\n",
              "                         &#x27;max_features&#x27;: [&#x27;log2&#x27;, &#x27;sqrt&#x27;, None],\n",
              "                         &#x27;max_leaf_nodes&#x27;: [None, 10, 50, 100],\n",
              "                         &#x27;min_samples_leaf&#x27;: [1, 3, 10],\n",
              "                         &#x27;min_weight_fraction_leaf&#x27;: [0.0, 0.2, 0.5],\n",
              "                         &#x27;splitter&#x27;: [&#x27;best&#x27;, &#x27;random&#x27;]},\n",
              "             verbose=0.5)</pre></div></div></div><div class=\"sk-parallel\"><div class=\"sk-parallel-item\"><div class=\"sk-item\"><div class=\"sk-label-container\"><div class=\"sk-label sk-toggleable\"><input class=\"sk-toggleable__control sk-hidden--visually\" id=\"sk-estimator-id-2\" type=\"checkbox\" ><label for=\"sk-estimator-id-2\" class=\"sk-toggleable__label sk-toggleable__label-arrow\">estimator: DecisionTreeRegressor</label><div class=\"sk-toggleable__content\"><pre>DecisionTreeRegressor()</pre></div></div></div><div class=\"sk-serial\"><div class=\"sk-item\"><div class=\"sk-estimator sk-toggleable\"><input class=\"sk-toggleable__control sk-hidden--visually\" id=\"sk-estimator-id-3\" type=\"checkbox\" ><label for=\"sk-estimator-id-3\" class=\"sk-toggleable__label sk-toggleable__label-arrow\">DecisionTreeRegressor</label><div class=\"sk-toggleable__content\"><pre>DecisionTreeRegressor()</pre></div></div></div></div></div></div></div></div></div></div>"
            ]
          },
          "metadata": {},
          "execution_count": 38
        }
      ]
    },
    {
      "cell_type": "code",
      "source": [
        "grid_cv.best_params_"
      ],
      "metadata": {
        "colab": {
          "base_uri": "https://localhost:8080/"
        },
        "id": "A8jbwPaTHAtY",
        "outputId": "dbb1ef81-47cf-44fa-8401-d59c27e640e1"
      },
      "execution_count": null,
      "outputs": [
        {
          "output_type": "execute_result",
          "data": {
            "text/plain": [
              "{'ccp_alpha': 3.74297732794,\n",
              " 'max_depth': 5,\n",
              " 'max_features': None,\n",
              " 'max_leaf_nodes': None,\n",
              " 'min_samples_leaf': 1,\n",
              " 'min_weight_fraction_leaf': 0.0,\n",
              " 'splitter': 'best'}"
            ]
          },
          "metadata": {},
          "execution_count": 39
        }
      ]
    },
    {
      "cell_type": "code",
      "source": [
        "reg = DecisionTreeRegressor(ccp_alpha=3.74297732794, \n",
        "                            max_depth = 5,\n",
        "                            max_features = None,\n",
        "                            max_leaf_nodes = None,\n",
        "                            min_samples_leaf = 1,\n",
        "                            min_weight_fraction_leaf = 0.0,\n",
        "                            splitter = 'best')\n",
        "model = reg.fit(X_train_train, y_train_train) \n",
        "pred = model.predict(X_val)"
      ],
      "metadata": {
        "id": "PMjl9zjsHERz"
      },
      "execution_count": null,
      "outputs": []
    },
    {
      "cell_type": "code",
      "source": [
        "print('rmse is', np.sqrt(mse(y_val, pred)))"
      ],
      "metadata": {
        "colab": {
          "base_uri": "https://localhost:8080/"
        },
        "id": "BVuLvNHXHcIQ",
        "outputId": "362fd7e3-8abf-4763-fe81-7be8454078af"
      },
      "execution_count": null,
      "outputs": [
        {
          "output_type": "stream",
          "name": "stdout",
          "text": [
            "rmse is 33.27784044805932\n"
          ]
        }
      ]
    },
    {
      "cell_type": "code",
      "source": [
        "# Getting test set rmse from best model above.\n",
        "\n",
        "reg = DecisionTreeRegressor(\n",
        "    max_depth=7,\n",
        "    max_features=None,\n",
        "    min_samples_leaf=5,\n",
        "    min_samples_split=30,\n",
        "    min_weight_fraction_leaf = 0,\n",
        "    splitter='best'\n",
        ")\n",
        "model = reg.fit(X_train,y_train)\n",
        "pred = model.predict(X_test)\n",
        "\n",
        "print('rmse on the test set is', np.sqrt(mse(y_test, pred)))"
      ],
      "metadata": {
        "colab": {
          "base_uri": "https://localhost:8080/"
        },
        "id": "6UKphbT86Wsk",
        "outputId": "747c08f3-3576-4719-ef00-9d0b8378ef31"
      },
      "execution_count": 13,
      "outputs": [
        {
          "output_type": "stream",
          "name": "stdout",
          "text": [
            "rmse on the test set is 32.41119244691474\n"
          ]
        }
      ]
    },
    {
      "cell_type": "markdown",
      "source": [
        "# Random forest regressors"
      ],
      "metadata": {
        "id": "Dudxw005Li0r"
      }
    },
    {
      "cell_type": "code",
      "source": [
        "# Random forest regressor with default hyperparameters\n",
        "\n",
        "from sklearn.ensemble import RandomForestRegressor\n",
        "from sklearn.metrics import mean_squared_error as mse\n",
        "\n",
        "reg = RandomForestRegressor()\n",
        "model = reg.fit(X_train_train,y_train_train)\n",
        "pred = model.predict(X_val)\n",
        "\n",
        "print('rmse is ', np.sqrt(mse(y_val,pred)))"
      ],
      "metadata": {
        "colab": {
          "base_uri": "https://localhost:8080/"
        },
        "id": "mJVPtgKubAaS",
        "outputId": "941d44be-031a-4020-d85e-7d220e37acd7"
      },
      "execution_count": 9,
      "outputs": [
        {
          "output_type": "stream",
          "name": "stdout",
          "text": [
            "rmse is  27.79756638485477\n"
          ]
        }
      ]
    },
    {
      "cell_type": "code",
      "source": [
        "# Hyperparameter tuning with GridSearchCV \n",
        "# With more time, I would tune more hyperparameters\n",
        "\n",
        "from sklearn.model_selection import GridSearchCV\n",
        "\n",
        "param_grid = { \n",
        "    'n_estimators': [200, 500, 1000],\n",
        "    'max_features': [None],\n",
        "    'max_depth' : [2, 5, 10, 100, None]\n",
        "}\n",
        "\n",
        "grid_cv = GridSearchCV(RandomForestRegressor(),\n",
        "                          param_grid = param_grid, \n",
        "                          cv = 5,\n",
        "                          verbose=1)\n",
        "\n",
        "grid_cv.fit(X_train, y_train)"
      ],
      "metadata": {
        "colab": {
          "base_uri": "https://localhost:8080/",
          "height": 135
        },
        "id": "DhvUBMLX4sqQ",
        "outputId": "668d241c-2575-4c06-e58c-5d64f6b828a4"
      },
      "execution_count": 8,
      "outputs": [
        {
          "output_type": "stream",
          "name": "stdout",
          "text": [
            "Fitting 5 folds for each of 15 candidates, totalling 75 fits\n"
          ]
        },
        {
          "output_type": "execute_result",
          "data": {
            "text/plain": [
              "GridSearchCV(cv=5, estimator=RandomForestRegressor(),\n",
              "             param_grid={'max_depth': [2, 5, 10, 100, None],\n",
              "                         'max_features': [None],\n",
              "                         'n_estimators': [200, 500, 1000]},\n",
              "             verbose=1)"
            ],
            "text/html": [
              "<style>#sk-container-id-1 {color: black;background-color: white;}#sk-container-id-1 pre{padding: 0;}#sk-container-id-1 div.sk-toggleable {background-color: white;}#sk-container-id-1 label.sk-toggleable__label {cursor: pointer;display: block;width: 100%;margin-bottom: 0;padding: 0.3em;box-sizing: border-box;text-align: center;}#sk-container-id-1 label.sk-toggleable__label-arrow:before {content: \"▸\";float: left;margin-right: 0.25em;color: #696969;}#sk-container-id-1 label.sk-toggleable__label-arrow:hover:before {color: black;}#sk-container-id-1 div.sk-estimator:hover label.sk-toggleable__label-arrow:before {color: black;}#sk-container-id-1 div.sk-toggleable__content {max-height: 0;max-width: 0;overflow: hidden;text-align: left;background-color: #f0f8ff;}#sk-container-id-1 div.sk-toggleable__content pre {margin: 0.2em;color: black;border-radius: 0.25em;background-color: #f0f8ff;}#sk-container-id-1 input.sk-toggleable__control:checked~div.sk-toggleable__content {max-height: 200px;max-width: 100%;overflow: auto;}#sk-container-id-1 input.sk-toggleable__control:checked~label.sk-toggleable__label-arrow:before {content: \"▾\";}#sk-container-id-1 div.sk-estimator input.sk-toggleable__control:checked~label.sk-toggleable__label {background-color: #d4ebff;}#sk-container-id-1 div.sk-label input.sk-toggleable__control:checked~label.sk-toggleable__label {background-color: #d4ebff;}#sk-container-id-1 input.sk-hidden--visually {border: 0;clip: rect(1px 1px 1px 1px);clip: rect(1px, 1px, 1px, 1px);height: 1px;margin: -1px;overflow: hidden;padding: 0;position: absolute;width: 1px;}#sk-container-id-1 div.sk-estimator {font-family: monospace;background-color: #f0f8ff;border: 1px dotted black;border-radius: 0.25em;box-sizing: border-box;margin-bottom: 0.5em;}#sk-container-id-1 div.sk-estimator:hover {background-color: #d4ebff;}#sk-container-id-1 div.sk-parallel-item::after {content: \"\";width: 100%;border-bottom: 1px solid gray;flex-grow: 1;}#sk-container-id-1 div.sk-label:hover label.sk-toggleable__label {background-color: #d4ebff;}#sk-container-id-1 div.sk-serial::before {content: \"\";position: absolute;border-left: 1px solid gray;box-sizing: border-box;top: 0;bottom: 0;left: 50%;z-index: 0;}#sk-container-id-1 div.sk-serial {display: flex;flex-direction: column;align-items: center;background-color: white;padding-right: 0.2em;padding-left: 0.2em;position: relative;}#sk-container-id-1 div.sk-item {position: relative;z-index: 1;}#sk-container-id-1 div.sk-parallel {display: flex;align-items: stretch;justify-content: center;background-color: white;position: relative;}#sk-container-id-1 div.sk-item::before, #sk-container-id-1 div.sk-parallel-item::before {content: \"\";position: absolute;border-left: 1px solid gray;box-sizing: border-box;top: 0;bottom: 0;left: 50%;z-index: -1;}#sk-container-id-1 div.sk-parallel-item {display: flex;flex-direction: column;z-index: 1;position: relative;background-color: white;}#sk-container-id-1 div.sk-parallel-item:first-child::after {align-self: flex-end;width: 50%;}#sk-container-id-1 div.sk-parallel-item:last-child::after {align-self: flex-start;width: 50%;}#sk-container-id-1 div.sk-parallel-item:only-child::after {width: 0;}#sk-container-id-1 div.sk-dashed-wrapped {border: 1px dashed gray;margin: 0 0.4em 0.5em 0.4em;box-sizing: border-box;padding-bottom: 0.4em;background-color: white;}#sk-container-id-1 div.sk-label label {font-family: monospace;font-weight: bold;display: inline-block;line-height: 1.2em;}#sk-container-id-1 div.sk-label-container {text-align: center;}#sk-container-id-1 div.sk-container {/* jupyter's `normalize.less` sets `[hidden] { display: none; }` but bootstrap.min.css set `[hidden] { display: none !important; }` so we also need the `!important` here to be able to override the default hidden behavior on the sphinx rendered scikit-learn.org. See: https://github.com/scikit-learn/scikit-learn/issues/21755 */display: inline-block !important;position: relative;}#sk-container-id-1 div.sk-text-repr-fallback {display: none;}</style><div id=\"sk-container-id-1\" class=\"sk-top-container\"><div class=\"sk-text-repr-fallback\"><pre>GridSearchCV(cv=5, estimator=RandomForestRegressor(),\n",
              "             param_grid={&#x27;max_depth&#x27;: [2, 5, 10, 100, None],\n",
              "                         &#x27;max_features&#x27;: [None],\n",
              "                         &#x27;n_estimators&#x27;: [200, 500, 1000]},\n",
              "             verbose=1)</pre><b>In a Jupyter environment, please rerun this cell to show the HTML representation or trust the notebook. <br />On GitHub, the HTML representation is unable to render, please try loading this page with nbviewer.org.</b></div><div class=\"sk-container\" hidden><div class=\"sk-item sk-dashed-wrapped\"><div class=\"sk-label-container\"><div class=\"sk-label sk-toggleable\"><input class=\"sk-toggleable__control sk-hidden--visually\" id=\"sk-estimator-id-1\" type=\"checkbox\" ><label for=\"sk-estimator-id-1\" class=\"sk-toggleable__label sk-toggleable__label-arrow\">GridSearchCV</label><div class=\"sk-toggleable__content\"><pre>GridSearchCV(cv=5, estimator=RandomForestRegressor(),\n",
              "             param_grid={&#x27;max_depth&#x27;: [2, 5, 10, 100, None],\n",
              "                         &#x27;max_features&#x27;: [None],\n",
              "                         &#x27;n_estimators&#x27;: [200, 500, 1000]},\n",
              "             verbose=1)</pre></div></div></div><div class=\"sk-parallel\"><div class=\"sk-parallel-item\"><div class=\"sk-item\"><div class=\"sk-label-container\"><div class=\"sk-label sk-toggleable\"><input class=\"sk-toggleable__control sk-hidden--visually\" id=\"sk-estimator-id-2\" type=\"checkbox\" ><label for=\"sk-estimator-id-2\" class=\"sk-toggleable__label sk-toggleable__label-arrow\">estimator: RandomForestRegressor</label><div class=\"sk-toggleable__content\"><pre>RandomForestRegressor()</pre></div></div></div><div class=\"sk-serial\"><div class=\"sk-item\"><div class=\"sk-estimator sk-toggleable\"><input class=\"sk-toggleable__control sk-hidden--visually\" id=\"sk-estimator-id-3\" type=\"checkbox\" ><label for=\"sk-estimator-id-3\" class=\"sk-toggleable__label sk-toggleable__label-arrow\">RandomForestRegressor</label><div class=\"sk-toggleable__content\"><pre>RandomForestRegressor()</pre></div></div></div></div></div></div></div></div></div></div>"
            ]
          },
          "metadata": {},
          "execution_count": 8
        }
      ]
    },
    {
      "cell_type": "code",
      "source": [
        "# Best hyperparameters from GridSearchCV above\n",
        "\n",
        "grid_cv.best_params_"
      ],
      "metadata": {
        "colab": {
          "base_uri": "https://localhost:8080/"
        },
        "id": "UK5VCpDiI7fR",
        "outputId": "895d26c3-7daf-4e2e-ec46-bb3d55b64182"
      },
      "execution_count": 9,
      "outputs": [
        {
          "output_type": "execute_result",
          "data": {
            "text/plain": [
              "{'max_depth': None, 'max_features': None, 'n_estimators': 200}"
            ]
          },
          "metadata": {},
          "execution_count": 9
        }
      ]
    },
    {
      "cell_type": "code",
      "source": [
        "# Fitting a model with the best hyperparameters\n",
        "\n",
        "reg = RandomForestRegressor(max_depth=None,\n",
        "                            max_features=None,\n",
        "                            n_estimators=200)\n",
        "model = reg.fit(X_train_train, y_train_train)\n",
        "pred = model.predict(X_val)\n",
        "print('rmse is', np.sqrt(mse(y_val, pred)))"
      ],
      "metadata": {
        "colab": {
          "base_uri": "https://localhost:8080/"
        },
        "id": "nNaLBTDeI_PL",
        "outputId": "17a191f4-c2b8-4a14-bbb9-50ea6d6c3ae6"
      },
      "execution_count": 10,
      "outputs": [
        {
          "output_type": "stream",
          "name": "stdout",
          "text": [
            "rmse is 27.608551580242747\n"
          ]
        }
      ]
    },
    {
      "cell_type": "code",
      "source": [
        "# Get rmse for test set\n",
        "\n",
        "reg = RandomForestRegressor(max_depth=None,\n",
        "                            max_features=None,\n",
        "                            n_estimators=200)\n",
        "model = reg.fit(X_train, y_train)\n",
        "pred = model.predict(X_test)\n",
        "print('rmse is', np.sqrt(mse(y_test, pred)))"
      ],
      "metadata": {
        "colab": {
          "base_uri": "https://localhost:8080/"
        },
        "id": "3tJ0wasBz-DM",
        "outputId": "fa50de88-ebc3-4e72-95a0-1c1a3aedab31"
      },
      "execution_count": 10,
      "outputs": [
        {
          "output_type": "stream",
          "name": "stdout",
          "text": [
            "rmse is 27.92586254078418\n"
          ]
        }
      ]
    },
    {
      "cell_type": "code",
      "source": [
        "# Given more time, I would fine-tune the hyperparameters and\n",
        "#  tune more hyperparameters"
      ],
      "metadata": {
        "id": "d00q0Ih9XJsv"
      },
      "execution_count": 11,
      "outputs": []
    },
    {
      "cell_type": "markdown",
      "source": [
        "# Extra trees regressor"
      ],
      "metadata": {
        "id": "bY_4Vm5WZVKx"
      }
    },
    {
      "cell_type": "code",
      "source": [
        "# Extra tree regressor with default hyperparameters\n",
        "\n",
        "from sklearn.ensemble import ExtraTreesRegressor\n",
        "from sklearn.metrics import mean_squared_error as mse \n",
        "\n",
        "reg = ExtraTreesRegressor()\n",
        "model = reg.fit(X_train_train, y_train_train)\n",
        "pred = model.predict(X_val)\n",
        "\n",
        "print('rmse is', np.sqrt(mse(pred, y_val)))"
      ],
      "metadata": {
        "colab": {
          "base_uri": "https://localhost:8080/"
        },
        "id": "Y_M-5DI56Oa6",
        "outputId": "14bf59be-7ff0-476c-ff08-782c013c6e65"
      },
      "execution_count": 6,
      "outputs": [
        {
          "output_type": "stream",
          "name": "stdout",
          "text": [
            "rmse is 28.194632818655215\n"
          ]
        }
      ]
    },
    {
      "cell_type": "code",
      "source": [
        "# Increase the number of estimators\n",
        "# With more time, I would tune hyperparameters\n",
        "\n",
        "reg = ExtraTreesRegressor(n_estimators = 1000)\n",
        "model = reg.fit(X_train_train, y_train_train) \n",
        "pred = model.predict(X_val)\n",
        "\n",
        "print('rmse is', np.sqrt(mse(pred, y_val)))"
      ],
      "metadata": {
        "colab": {
          "base_uri": "https://localhost:8080/"
        },
        "id": "Nflpvv8Z66j8",
        "outputId": "12409d91-890b-444d-e962-a63853d7997a"
      },
      "execution_count": 7,
      "outputs": [
        {
          "output_type": "stream",
          "name": "stdout",
          "text": [
            "rmse is 28.36173942460358\n"
          ]
        }
      ]
    },
    {
      "cell_type": "code",
      "source": [
        "# Get test set error on better of the two\n",
        "\n",
        "reg = ExtraTreesRegressor()\n",
        "model = reg.fit(X_train, y_train)\n",
        "pred = model.predict(X_test)\n",
        "\n",
        "print('rmse is', np.sqrt(mse(pred, y_test)))"
      ],
      "metadata": {
        "id": "6TOYDx877RSr",
        "colab": {
          "base_uri": "https://localhost:8080/"
        },
        "outputId": "da872e1d-d0d8-4eeb-a77b-39112fb9d647"
      },
      "execution_count": 8,
      "outputs": [
        {
          "output_type": "stream",
          "name": "stdout",
          "text": [
            "rmse is 29.637591863329945\n"
          ]
        }
      ]
    }
  ]
}