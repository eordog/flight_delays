{
  "nbformat": 4,
  "nbformat_minor": 0,
  "metadata": {
    "colab": {
      "provenance": [],
      "toc_visible": true
    },
    "kernelspec": {
      "name": "python3",
      "display_name": "Python 3"
    },
    "language_info": {
      "name": "python"
    },
    "accelerator": "GPU",
    "gpuClass": "standard"
  },
  "cells": [
    {
      "cell_type": "markdown",
      "source": [
        "# Data cleaning"
      ],
      "metadata": {
        "id": "cWnjurohgWUn"
      }
    },
    {
      "cell_type": "code",
      "execution_count": 1,
      "metadata": {
        "id": "JTHi-6vx6utS"
      },
      "outputs": [],
      "source": [
        "import pandas as pd\n",
        "import numpy as np\n",
        "import seaborn as sns\n",
        "import matplotlib.pyplot as plt"
      ]
    },
    {
      "cell_type": "code",
      "source": [
        "# Load csv\n",
        "jfk = pd.read_csv('/content/JFK_flight_data.csv')\n",
        "\n",
        "# Drop null values\n",
        "jfk = jfk.dropna()\n",
        "\n",
        "# One-hot encoding for categorical variables\n",
        "one_hot = pd.get_dummies(jfk['OP_UNIQUE_CARRIER'])\n",
        "jfk = jfk.drop('OP_UNIQUE_CARRIER',axis = 1)\n",
        "jfk = jfk.join(one_hot)\n",
        "\n",
        "one_hot = pd.get_dummies(jfk['DEST'])\n",
        "jfk = jfk.drop('DEST',axis = 1)\n",
        "jfk = jfk.join(one_hot)\n",
        "\n",
        "one_hot = pd.get_dummies(jfk['Wind'])\n",
        "jfk = jfk.drop('Wind',axis = 1)\n",
        "jfk = jfk.join(one_hot)\n",
        "\n",
        "one_hot = pd.get_dummies(jfk['Condition'])\n",
        "jfk = jfk.drop('Condition',axis = 1)\n",
        "jfk = jfk.join(one_hot)\n",
        "\n",
        "jfk.loc[jfk['MONTH']==1, 'MONTH'] = 'Jan'\n",
        "jfk.loc[jfk['MONTH']==11, 'MONTH'] = 'Nov'\n",
        "jfk.loc[jfk['MONTH']==12, 'MONTH'] = 'Dec'\n",
        "one_hot = pd.get_dummies(jfk['MONTH'])\n",
        "jfk = jfk.drop('MONTH', axis = 1)\n",
        "jfk = jfk.join(one_hot)\n",
        "\n",
        "# Drop unneeded columns\n",
        "jfk = jfk.drop(columns = ['TAIL_NUM','DEP_TIME_M'])\n",
        "\n",
        "# Change type of Dew Point column to int\n",
        "jfk['Dew Point'] = jfk['Dew Point'].astype(int)"
      ],
      "metadata": {
        "id": "MBVMUv5J6x9N"
      },
      "execution_count": 2,
      "outputs": []
    },
    {
      "cell_type": "code",
      "source": [
        "# Turn target column into a categorical variable based on whether the departure\n",
        "#     delay is 15 minutes or more.\n",
        "\n",
        "jfk['DEP_DELAY_CAT'] = jfk['DEP_DELAY'].apply(lambda x: 1 if x > 15 else 0)\n",
        "\n",
        "# Drop original departure delay column\n",
        "\n",
        "jfk = jfk.drop('DEP_DELAY', axis = 1)"
      ],
      "metadata": {
        "id": "fnQ6wsCX_YM5"
      },
      "execution_count": 3,
      "outputs": []
    },
    {
      "cell_type": "markdown",
      "source": [
        "# Train-test-validation split"
      ],
      "metadata": {
        "id": "WpvsemMjgnjf"
      }
    },
    {
      "cell_type": "code",
      "source": [
        "# Train test validation split \n",
        "\n",
        "# Train-test split\n",
        "from sklearn.model_selection import train_test_split\n",
        "\n",
        "X,y = jfk.loc[:, jfk.columns != 'DEP_DELAY_CAT'], jfk.loc[:, 'DEP_DELAY_CAT']\n",
        "\n",
        "X_train, X_test, y_train, y_test = train_test_split(X, y, test_size=0.2, random_state=604)\n",
        "\n",
        "# Train-validation split\n",
        "\n",
        "X_train_train, X_val, y_train_train, y_val = train_test_split(X_train, y_train, test_size = 0.2, random_state = 604)"
      ],
      "metadata": {
        "id": "6B_rKb258k7l"
      },
      "execution_count": 4,
      "outputs": []
    },
    {
      "cell_type": "code",
      "source": [
        "# Stratified k-fold cross validation split\n",
        "# Keeps same percentage of samples for each class\n",
        "\n",
        "from sklearn.model_selection import StratifiedKFold\n",
        "\n",
        "kfold = StratifiedKFold(5,\n",
        "                        shuffle=True,\n",
        "                        random_state = 604)\n",
        "\n",
        "i = 1\n",
        "\n",
        "for train_index, test_index in kfold.split(X_train,y_train):\n",
        "    print(\"Split\",i)\n",
        "    print(\"CV Training Set Split\")\n",
        "    print(y_train.iloc[train_index].value_counts(normalize=True))\n",
        "    \n",
        "    print()\n",
        "    \n",
        "    print(\"CV Validation Set Split\")\n",
        "    print(y_train.iloc[test_index].value_counts(normalize=True))\n",
        "    \n",
        "    print(\"+++++++++++++++\")\n",
        "    i = i + 1"
      ],
      "metadata": {
        "colab": {
          "base_uri": "https://localhost:8080/"
        },
        "id": "iECj9IRnCz_p",
        "outputId": "ca0e796e-da2b-4ada-b58b-9eb5e2600025"
      },
      "execution_count": 16,
      "outputs": [
        {
          "output_type": "stream",
          "name": "stdout",
          "text": [
            "Split 1\n",
            "CV Training Set Split\n",
            "0    0.868405\n",
            "1    0.131595\n",
            "Name: DEP_DELAY_CAT, dtype: float64\n",
            "\n",
            "CV Validation Set Split\n",
            "0    0.868358\n",
            "1    0.131642\n",
            "Name: DEP_DELAY_CAT, dtype: float64\n",
            "+++++++++++++++\n",
            "Split 2\n",
            "CV Training Set Split\n",
            "0    0.868405\n",
            "1    0.131595\n",
            "Name: DEP_DELAY_CAT, dtype: float64\n",
            "\n",
            "CV Validation Set Split\n",
            "0    0.868358\n",
            "1    0.131642\n",
            "Name: DEP_DELAY_CAT, dtype: float64\n",
            "+++++++++++++++\n",
            "Split 3\n",
            "CV Training Set Split\n",
            "0    0.868405\n",
            "1    0.131595\n",
            "Name: DEP_DELAY_CAT, dtype: float64\n",
            "\n",
            "CV Validation Set Split\n",
            "0    0.868358\n",
            "1    0.131642\n",
            "Name: DEP_DELAY_CAT, dtype: float64\n",
            "+++++++++++++++\n",
            "Split 4\n",
            "CV Training Set Split\n",
            "0    0.868405\n",
            "1    0.131595\n",
            "Name: DEP_DELAY_CAT, dtype: float64\n",
            "\n",
            "CV Validation Set Split\n",
            "0    0.868358\n",
            "1    0.131642\n",
            "Name: DEP_DELAY_CAT, dtype: float64\n",
            "+++++++++++++++\n",
            "Split 5\n",
            "CV Training Set Split\n",
            "0    0.868358\n",
            "1    0.131642\n",
            "Name: DEP_DELAY_CAT, dtype: float64\n",
            "\n",
            "CV Validation Set Split\n",
            "0    0.868547\n",
            "1    0.131453\n",
            "Name: DEP_DELAY_CAT, dtype: float64\n",
            "+++++++++++++++\n"
          ]
        }
      ]
    },
    {
      "cell_type": "markdown",
      "source": [
        "# Logistic regression"
      ],
      "metadata": {
        "id": "q8aR9r7QjusA"
      }
    },
    {
      "cell_type": "markdown",
      "source": [
        "## First model without stratified k-fold cv"
      ],
      "metadata": {
        "id": "XGa04_TT03TB"
      }
    },
    {
      "cell_type": "code",
      "source": [
        "from sklearn.linear_model import LogisticRegression\n",
        "from sklearn.model_selection import GridSearchCV\n",
        "from sklearn.metrics import accuracy_score, confusion_matrix, classification_report\n",
        "\n",
        "# Fit a basic logistic regression model\n",
        "\n",
        "log_reg = LogisticRegression(penalty = None, max_iter = 10000)\n",
        "log_model = log_reg.fit(X_train_train, y_train_train)\n",
        "log_pred = log_model.predict(X_val)\n",
        "\n",
        "log_score = log_model.score(X_val, y_val)\n",
        "\n",
        "print(log_score)\n"
      ],
      "metadata": {
        "colab": {
          "base_uri": "https://localhost:8080/"
        },
        "id": "WbIjgB6PBHjR",
        "outputId": "a93f59d5-3c0f-4951-82c4-26479aca5f34"
      },
      "execution_count": 5,
      "outputs": [
        {
          "output_type": "stream",
          "name": "stdout",
          "text": [
            "0.8703101279548905\n"
          ]
        }
      ]
    },
    {
      "cell_type": "code",
      "source": [
        "# Print confusion matrices\n",
        "\n",
        "# Confusion matrix for the training set\n",
        "print('Confusion matrix for training set')\n",
        "print(confusion_matrix(y_train_train, log_model.predict(X_train_train)))\n",
        "\n",
        "# Confusion matrix for the validation set\n",
        "# Default cutoff of 0.5\n",
        "print('Confusion matrix for validation set, cutoff 0.5')\n",
        "print(confusion_matrix(y_val, log_pred))\n",
        "\n",
        "# Confusion matrix for validation set and a cutoff of 0.4\n",
        "print('Confusion matrix for validation set, cutoff 0.4')\n",
        "print(confusion_matrix(y_val, np.int64(log_reg.predict_proba(X_val)[:,1] >= 0.4)))\n"
      ],
      "metadata": {
        "colab": {
          "base_uri": "https://localhost:8080/"
        },
        "id": "S84OoEzQ13KG",
        "outputId": "4774e49b-9b2e-4bcd-e39e-b66f2e702168"
      },
      "execution_count": 7,
      "outputs": [
        {
          "output_type": "stream",
          "name": "stdout",
          "text": [
            "Confusion matrix for training set\n",
            "[[15982    31]\n",
            " [ 2335    95]]\n",
            "Confusion matrix for validation set, cutoff 0.5\n",
            "[[3999    8]\n",
            " [ 590   14]]\n",
            "Confusion matrix for validation set, cutoff 0.4\n",
            "[[3963   44]\n",
            " [ 563   41]]\n"
          ]
        }
      ]
    },
    {
      "cell_type": "code",
      "source": [
        "# Confusion matrix display on validation set, cutoff 0.5\n",
        "\n",
        "from sklearn.metrics import ConfusionMatrixDisplay\n",
        "\n",
        "disp = ConfusionMatrixDisplay.from_estimator(\n",
        "        log_model,\n",
        "        X_val,\n",
        "        y_val,\n",
        "        display_labels=['on-time','late'],\n",
        "        cmap=plt.cm.Blues\n",
        "    )\n",
        "disp.ax_.set_title('Confusion Matrix for Logistic Regression')\n",
        "\n",
        "print('Confusion Matrix for Logistic Regression')\n",
        "print(disp.confusion_matrix)"
      ],
      "metadata": {
        "colab": {
          "base_uri": "https://localhost:8080/",
          "height": 347
        },
        "id": "d-9pecKJ8J-Q",
        "outputId": "dd65951b-3c1a-44a7-cd7e-de16b4cc366d"
      },
      "execution_count": 8,
      "outputs": [
        {
          "output_type": "stream",
          "name": "stdout",
          "text": [
            "Confusion Matrix for Logistic Regression\n",
            "[[3999    8]\n",
            " [ 590   14]]\n"
          ]
        },
        {
          "output_type": "display_data",
          "data": {
            "text/plain": [
              "<Figure size 432x288 with 2 Axes>"
            ],
            "image/png": "[encoded data removed]"
          },
          "metadata": {
            "needs_background": "light"
          }
        }
      ]
    },
    {
      "cell_type": "markdown",
      "source": [
        "## Determine cutoff point with stratified cv"
      ],
      "metadata": {
        "id": "0KIzuUHP0_jR"
      }
    },
    {
      "cell_type": "code",
      "source": [
        "# Compute accuracy, precision, recall, and f1 score for different cutoff points\n",
        "#  using stratified k-fold cross-validation splits\n",
        "\n",
        "from sklearn.linear_model import LogisticRegression\n",
        "from sklearn.metrics import precision_score, recall_score, f1_score, accuracy_score\n",
        "\n",
        "i = 0\n",
        "cutoffs = np.arange(0.01,.95,.001)\n",
        "accuracy_scores = np.zeros((5, len(cutoffs)))\n",
        "precision_scores = np.zeros((5, len(cutoffs)))\n",
        "recall_scores = np.zeros((5, len(cutoffs)))\n",
        "f1_scores = np.zeros((5, len(cutoffs)))\n",
        "\n",
        " \n",
        "for train_index, test_index in kfold.split(X_train,y_train):\n",
        "    j=0\n",
        "    log_reg_i = LogisticRegression(penalty = None, max_iter = 10000)\n",
        "    log_model_i = log_reg.fit(X_train.iloc[train_index], y_train.iloc[train_index])\n",
        "    log_pred_i = log_model.predict(X_train.iloc[test_index])\n",
        "\n",
        "    y_pred_prob_i = log_model_i.predict_proba(X_train.iloc[test_index])[:,1]\n",
        "\n",
        "    for cutoff in cutoffs:\n",
        "      pred = 1*(y_pred_prob_i >= cutoff)\n",
        "\n",
        "      accuracy_scores[i,j] = accuracy_score(y_train.iloc[test_index], pred)\n",
        "\n",
        "      precision_scores[i,j] = precision_score(y_train.iloc[test_index], pred, zero_division=1)\n",
        "\n",
        "      recall_scores[i,j] = recall_score(y_train.iloc[test_index], pred, zero_division=1)\n",
        "\n",
        "      f1_scores[i,j] = f1_score(y_train.iloc[test_index], pred, zero_division = 1)\n",
        "\n",
        "      j+= 1\n",
        "    \n",
        "    i += 1"
      ],
      "metadata": {
        "id": "0mALL13GRuC-"
      },
      "execution_count": 37,
      "outputs": []
    },
    {
      "cell_type": "code",
      "source": [
        "# Get average scores over all cv splits\n",
        "\n",
        "acc_scores_avg = []\n",
        "precision_scores_avg = []\n",
        "recall_scores_avg = []\n",
        "f1_scores_avg = []\n",
        "for i in range(len(cutoffs)):\n",
        "  acc_scores_avg.append(np.average(accuracy_scores[:,i]))\n",
        "  precision_scores_avg.append(np.average(precision_scores[:,i]))\n",
        "  recall_scores_avg.append(np.average(recall_scores[:,i]))\n",
        "  f1_scores_avg.append(np.average(f1_scores[:,i]))"
      ],
      "metadata": {
        "id": "nwtUZwwvOl45"
      },
      "execution_count": 38,
      "outputs": []
    },
    {
      "cell_type": "code",
      "source": [
        "cutoff_arg = np.argmax(f1_scores_avg)\n",
        "cutoff = cutoff_arg*0.001+0.01\n",
        "\n",
        "print(cutoff_arg)\n",
        "print('the maximum f1 score is', np.max(f1_scores_avg))\n",
        "print('the cutoff value for the max f1 score is',cutoff)\n",
        "print('\\n')\n",
        "print('the precision for the maximum f1 score is', precision_scores_avg[cutoff_arg])\n",
        "print('the recall for the maximum f1 score is', recall_scores_avg[cutoff_arg])\n",
        "print('the accuracy for the maximum f1 score is', acc_scores_avg[cutoff_arg])"
      ],
      "metadata": {
        "colab": {
          "base_uri": "https://localhost:8080/"
        },
        "id": "iAYA_5qaP8GP",
        "outputId": "0dc83ffa-4981-4a0e-97ae-7db5537441e2"
      },
      "execution_count": 39,
      "outputs": [
        {
          "output_type": "stream",
          "name": "stdout",
          "text": [
            "167\n",
            "the maximum f1 score is 0.3298579705385655\n",
            "the cutoff value for the max f1 score is 0.17700000000000002\n",
            "\n",
            "\n",
            "the precision for the maximum f1 score is 0.2595485922371156\n",
            "the recall for the maximum f1 score is 0.45254049292902937\n",
            "the accuracy for the maximum f1 score is 0.7580026354031268\n"
          ]
        }
      ]
    },
    {
      "cell_type": "code",
      "source": [
        "# Precision-recall curve from cross-validation\n",
        "\n",
        "plt.figure(figsize=(8,6))\n",
        "\n",
        "plt.plot(recall_scores_avg, precision_scores_avg)\n",
        "\n",
        "plt.xlabel(\"Recall\", fontsize=16)\n",
        "plt.ylabel(\"Precision\", fontsize=16)\n",
        "\n",
        "plt.xticks(fontsize=14)\n",
        "plt.yticks(fontsize=14)\n",
        "\n",
        "plt.show()"
      ],
      "metadata": {
        "colab": {
          "base_uri": "https://localhost:8080/",
          "height": 397
        },
        "id": "r_DnG8YCdLv6",
        "outputId": "117ad9c8-4730-4a13-a06d-93774f7642d5"
      },
      "execution_count": 33,
      "outputs": [
        {
          "output_type": "display_data",
          "data": {
            "text/plain": [
              "<Figure size 576x432 with 1 Axes>"
            ],
            "image/png": "[encoded data removed]"
          },
          "metadata": {
            "needs_background": "light"
          }
        }
      ]
    },
    {
      "cell_type": "code",
      "source": [
        "# Confusion matrix, precision, recall, and f1 scores for the test set\n",
        "\n",
        "from sklearn.metrics import confusion_matrix\n",
        "\n",
        "log_reg = LogisticRegression(penalty = None, max_iter=10000)\n",
        "log_model = log_reg.fit(X_train, y_train)\n",
        "log_pred = log_model.predict_proba(X_test)\n",
        "log_pred_cutoff = np.int64(1*(log_pred[:,1] >= cutoff))\n",
        "\n",
        "print('Confusion matrix for the test set, cutoff', cutoff)\n",
        "print(confusion_matrix(y_test, log_pred_cutoff))\n",
        "\n",
        "print('Precision score is', precision_score(y_test, log_pred_cutoff, zero_division=1))\n",
        "print('Recall score is', recall_score(y_test, log_pred_cutoff, zero_division=1))\n",
        "print('F1 score is', f1_score(y_test, log_pred_cutoff, zero_division=1))"
      ],
      "metadata": {
        "colab": {
          "base_uri": "https://localhost:8080/"
        },
        "id": "O6DsVbABTZSK",
        "outputId": "25aef7c4-95f9-4cc9-d19f-76cf321ad823"
      },
      "execution_count": 31,
      "outputs": [
        {
          "output_type": "stream",
          "name": "stdout",
          "text": [
            "Confusion matrix for the test set, cutoff 0.17700000000000002\n",
            "[[3942  983]\n",
            " [ 499  340]]\n",
            "Precision score is 0.25699168556311414\n",
            "Recall score is 0.4052443384982122\n",
            "F1 score is 0.3145235892691952\n"
          ]
        }
      ]
    },
    {
      "cell_type": "code",
      "source": [
        "# Display the confusion matrix for the test set\n",
        "\n",
        "from sklearn.metrics import ConfusionMatrixDisplay\n",
        "\n",
        "print('Confusion Matrix for Logistic Regression')\n",
        "print('\\n')\n",
        "\n",
        "ConfusionMatrixDisplay.from_predictions(y_test, log_pred_cutoff, \n",
        "                                        display_labels=['on-time','late'], \n",
        "                                        cmap=plt.cm.Blues)"
      ],
      "metadata": {
        "colab": {
          "base_uri": "https://localhost:8080/",
          "height": 348
        },
        "id": "K--6Vpq-ZRc-",
        "outputId": "ee394b6b-1210-4658-ca59-6944fd6de641"
      },
      "execution_count": 32,
      "outputs": [
        {
          "output_type": "stream",
          "name": "stdout",
          "text": [
            "Confusion Matrix for Logistic Regression\n",
            "\n",
            "\n"
          ]
        },
        {
          "output_type": "execute_result",
          "data": {
            "text/plain": [
              "<sklearn.metrics._plot.confusion_matrix.ConfusionMatrixDisplay at 0x7fcc8bcc09d0>"
            ]
          },
          "metadata": {},
          "execution_count": 32
        },
        {
          "output_type": "display_data",
          "data": {
            "text/plain": [
              "<Figure size 432x288 with 2 Axes>"
            ],
            "image/png": "[encoded data removed]"
          },
          "metadata": {
            "needs_background": "light"
          }
        }
      ]
    },
    {
      "cell_type": "code",
      "source": [
        "# Ways to improve: tune hyperparameter C, which inversely affects the weight of regularization;\n",
        "#   use l1 or l2 or elasticnet regularization;\n",
        "#   may want to weigh precision more, since it may be worse to\n",
        "#   label an on-time flight as delayed than the reverse;\n",
        "#   can try other log solvers and use gridsearchcv to find best combination of parameters"
      ],
      "metadata": {
        "id": "VFrV8bygmvpg"
      },
      "execution_count": null,
      "outputs": []
    }
  ]
}