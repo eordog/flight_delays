{
  "nbformat": 4,
  "nbformat_minor": 0,
  "metadata": {
    "colab": {
      "provenance": [],
      "toc_visible": true
    },
    "kernelspec": {
      "name": "python3",
      "display_name": "Python 3"
    },
    "language_info": {
      "name": "python"
    },
    "accelerator": "GPU",
    "gpuClass": "standard"
  },
  "cells": [
    {
      "cell_type": "markdown",
      "source": [
        "# Data cleaning"
      ],
      "metadata": {
        "id": "It0OdMlxrBBd"
      }
    },
    {
      "cell_type": "code",
      "execution_count": 1,
      "metadata": {
        "id": "j8FEPpLnoULc"
      },
      "outputs": [],
      "source": [
        "import pandas as pd\n",
        "import numpy as np"
      ]
    },
    {
      "cell_type": "code",
      "source": [
        "# Load csv\n",
        "jfk = pd.read_csv('/content/JFK_flight_data.csv')\n",
        "\n",
        "# Drop null values\n",
        "jfk = jfk.dropna()\n",
        "\n",
        "# One-hot encoding for categorical variables\n",
        "one_hot = pd.get_dummies(jfk['OP_UNIQUE_CARRIER'])\n",
        "jfk = jfk.drop('OP_UNIQUE_CARRIER',axis = 1)\n",
        "jfk = jfk.join(one_hot)\n",
        "\n",
        "one_hot = pd.get_dummies(jfk['DEST'])\n",
        "jfk = jfk.drop('DEST',axis = 1)\n",
        "jfk = jfk.join(one_hot)\n",
        "\n",
        "one_hot = pd.get_dummies(jfk['Wind'])\n",
        "jfk = jfk.drop('Wind',axis = 1)\n",
        "jfk = jfk.join(one_hot)\n",
        "\n",
        "one_hot = pd.get_dummies(jfk['Condition'])\n",
        "jfk = jfk.drop('Condition',axis = 1)\n",
        "jfk = jfk.join(one_hot)\n",
        "\n",
        "jfk.loc[jfk['MONTH']==1, 'MONTH'] = 'Jan'\n",
        "jfk.loc[jfk['MONTH']==11, 'MONTH'] = 'Nov'\n",
        "jfk.loc[jfk['MONTH']==12, 'MONTH'] = 'Dec'\n",
        "one_hot = pd.get_dummies(jfk['MONTH'])\n",
        "jfk = jfk.drop('MONTH', axis = 1)\n",
        "jfk = jfk.join(one_hot)\n",
        "\n",
        "# Drop unneeded columns\n",
        "jfk = jfk.drop(columns = ['TAIL_NUM','DEP_TIME_M'])\n",
        "\n",
        "# Change type of Dew Point column to int\n",
        "jfk['Dew Point'] = jfk['Dew Point'].astype(int)"
      ],
      "metadata": {
        "id": "ZTqPKt2tq8I-"
      },
      "execution_count": 2,
      "outputs": []
    },
    {
      "cell_type": "markdown",
      "source": [
        "# Train-test-validation split"
      ],
      "metadata": {
        "id": "_vDNvPVRrTuU"
      }
    },
    {
      "cell_type": "code",
      "source": [
        "from sklearn.model_selection import train_test_split\n",
        "\n",
        "# Train-test split\n",
        "\n",
        "X,y = jfk.loc[:, jfk.columns != 'DEP_DELAY'], jfk.loc[:, 'DEP_DELAY']\n",
        "\n",
        "X_train, X_test, y_train, y_test = train_test_split(X, y, test_size=0.2, random_state=604)\n",
        "\n",
        "# Train-validation split\n",
        "\n",
        "X_train_train, X_val, y_train_train, y_val = train_test_split(X_train, y_train,\n",
        "                                                              test_size = 0.2, \n",
        "                                                              random_state = 604)"
      ],
      "metadata": {
        "id": "mFLyfr0po4SJ"
      },
      "execution_count": 3,
      "outputs": []
    },
    {
      "cell_type": "markdown",
      "source": [
        "# Ada Boost regressor"
      ],
      "metadata": {
        "id": "mIMcmc8yrYgT"
      }
    },
    {
      "cell_type": "code",
      "source": [
        "# AdaBoost regressor with decision tree estimator\n",
        "\n",
        "from sklearn.ensemble import AdaBoostRegressor\n",
        "from sklearn.tree import DecisionTreeRegressor\n",
        "from sklearn.metrics import mean_squared_error as mse\n",
        "from sklearn.model_selection import GridSearchCV\n",
        "\n",
        "# Get decision tree regressor validation error for comparison\n",
        "# These hyperparameters were chosen in tree regressor notebook\n",
        "\n",
        "reg = DecisionTreeRegressor(\n",
        "    max_depth=7,\n",
        "    max_features=None,\n",
        "    min_samples_leaf=5,\n",
        "    min_samples_split=30,\n",
        "    min_weight_fraction_leaf = 0,\n",
        "    splitter='best'\n",
        ")\n",
        "model = reg.fit(X_train_train, y_train_train)\n",
        "pred = model.predict(X_val) \n",
        "print('rmse for the Decision Tree Regressor is', np.sqrt(mse(pred,y_val)))\n",
        "\n",
        "# Hyperparameter tuning for AdaBoost regressor with GridSearchCV\n",
        "\n",
        "param_grid = { \n",
        "    'n_estimators': [2,5,10,50],\n",
        "    'learning_rate': [0.1, 0.5, 1, 1.5]\n",
        "}\n",
        "\n",
        "reg = DecisionTreeRegressor(\n",
        "    max_depth=7,\n",
        "    max_features=None,\n",
        "    min_samples_leaf=5,\n",
        "    min_samples_split=30,\n",
        "    min_weight_fraction_leaf = 0,\n",
        "    splitter='best'\n",
        ")\n",
        "\n",
        "grid_cv = GridSearchCV(AdaBoostRegressor(reg),\n",
        "                          param_grid = param_grid, \n",
        "                          cv = 5,\n",
        "                          verbose=0.5)\n",
        "\n",
        "grid_cv.fit(X_train, y_train)\n",
        "\n",
        "print(grid_cv.best_params_)\n"
      ],
      "metadata": {
        "colab": {
          "base_uri": "https://localhost:8080/"
        },
        "id": "tgQ6piqNpRhy",
        "outputId": "33f2d011-e444-47b2-d802-f9d33c56f1de"
      },
      "execution_count": 7,
      "outputs": [
        {
          "output_type": "stream",
          "name": "stdout",
          "text": [
            "rmse for the Decision Tree Regressor is 38.21118872284227\n",
            "Fitting 5 folds for each of 16 candidates, totalling 80 fits\n",
            "{'learning_rate': 0.1, 'n_estimators': 5}\n"
          ]
        }
      ]
    },
    {
      "cell_type": "code",
      "source": [
        "# Get validation error for model with best parameters\n",
        "\n",
        "from sklearn.metrics import mean_squared_error as mse\n",
        "\n",
        "ada_reg = AdaBoostRegressor(estimator = reg, \n",
        "                            learning_rate = 0.1,\n",
        "                            n_estimators = 5)\n",
        "model = ada_reg.fit(X_train_train, y_train_train)\n",
        "pred = model.predict(X_val)\n",
        "\n",
        "print('rmse is', np.sqrt(mse(pred, y_val)))"
      ],
      "metadata": {
        "colab": {
          "base_uri": "https://localhost:8080/"
        },
        "id": "Qs66GFEhxFsg",
        "outputId": "b751da99-32a3-422b-a45b-6140eaf7bb51"
      },
      "execution_count": 8,
      "outputs": [
        {
          "output_type": "stream",
          "name": "stdout",
          "text": [
            "rmse is 37.73167661368316\n"
          ]
        }
      ]
    },
    {
      "cell_type": "code",
      "source": [
        "# Tune hyperparameters for estimator and AdaBoostRegressor\n",
        "\n",
        "param_grid = {\n",
        "    'estimator__max_depth': [1, 2, 5, 10],\n",
        "    'n_estimators': [2,5,10,50],\n",
        "    'learning_rate': [0.01, 0.1, 0.5, 1]\n",
        "}\n",
        "\n",
        "grid_cv = GridSearchCV(AdaBoostRegressor(DecisionTreeRegressor()), \n",
        "                           param_grid=param_grid,\n",
        "                           cv=5,\n",
        "                           verbose = 0.5)\n",
        "\n",
        "grid_cv.fit(X_train, y_train)\n",
        "\n",
        "print(grid_cv.best_params_)"
      ],
      "metadata": {
        "colab": {
          "base_uri": "https://localhost:8080/"
        },
        "id": "toLuAYbryTQa",
        "outputId": "f042d16c-513c-4437-fd74-75a7cbe71362"
      },
      "execution_count": 13,
      "outputs": [
        {
          "output_type": "stream",
          "name": "stdout",
          "text": [
            "Fitting 5 folds for each of 64 candidates, totalling 320 fits\n",
            "{'estimator__max_depth': 10, 'learning_rate': 0.01, 'n_estimators': 5}\n"
          ]
        }
      ]
    },
    {
      "cell_type": "code",
      "source": [
        "# Check validation set error\n",
        "\n",
        "reg = DecisionTreeRegressor(max_depth=10)\n",
        "\n",
        "ada_reg = AdaBoostRegressor(estimator = reg,\n",
        "                            learning_rate=0.01,\n",
        "                            n_estimators = 5)\n",
        "model = ada_reg.fit(X_train_train, y_train_train)\n",
        "pred = model.predict(X_val)\n",
        "\n",
        "print('rmse is', np.sqrt(mse(pred, y_val)))"
      ],
      "metadata": {
        "colab": {
          "base_uri": "https://localhost:8080/"
        },
        "id": "p_W9e-2U3d6d",
        "outputId": "3a0c80ba-5743-4116-b6e1-44c3e72b272a"
      },
      "execution_count": 14,
      "outputs": [
        {
          "output_type": "stream",
          "name": "stdout",
          "text": [
            "rmse is 31.790710601191382\n"
          ]
        }
      ]
    },
    {
      "cell_type": "code",
      "source": [
        "# Fine-tune hyperparameters\n",
        "\n",
        "param_grid = {\n",
        "    'estimator__max_depth': [10, 15, 20, 25],\n",
        "    'n_estimators': [3,4,5,6,7],\n",
        "    'learning_rate': [0.008,0.009,0.01,0.011,0.012]\n",
        "}\n",
        "\n",
        "grid_cv = GridSearchCV(AdaBoostRegressor(DecisionTreeRegressor()), \n",
        "                           param_grid=param_grid,\n",
        "                           cv=5,\n",
        "                           verbose = 0.5)\n",
        "\n",
        "grid_cv.fit(X_train, y_train)\n",
        "\n",
        "print(grid_cv.best_params_)"
      ],
      "metadata": {
        "colab": {
          "base_uri": "https://localhost:8080/"
        },
        "id": "5mHWVCcw39jJ",
        "outputId": "17e30520-5ab1-445f-d25c-9493bf219887"
      },
      "execution_count": 15,
      "outputs": [
        {
          "output_type": "stream",
          "name": "stdout",
          "text": [
            "Fitting 5 folds for each of 100 candidates, totalling 500 fits\n",
            "{'estimator__max_depth': 20, 'learning_rate': 0.012, 'n_estimators': 7}\n"
          ]
        }
      ]
    },
    {
      "cell_type": "code",
      "source": [
        "# Get validation set error\n",
        "\n",
        "reg = DecisionTreeRegressor(max_depth = 20)\n",
        "\n",
        "ada_reg = AdaBoostRegressor(estimator = reg,\n",
        "                            learning_rate = 0.012,\n",
        "                            n_estimators = 7)\n",
        "model = ada_reg.fit(X_train_train, y_train_train)\n",
        "pred = model.predict(X_val)\n",
        "\n",
        "print('rmse is', np.sqrt(mse(pred, y_val)))"
      ],
      "metadata": {
        "colab": {
          "base_uri": "https://localhost:8080/"
        },
        "id": "RS76mb9pBop-",
        "outputId": "9e13a994-6ddc-4a20-a11b-16684bf49987"
      },
      "execution_count": 16,
      "outputs": [
        {
          "output_type": "stream",
          "name": "stdout",
          "text": [
            "rmse is 28.99575832240561\n"
          ]
        }
      ]
    },
    {
      "cell_type": "code",
      "source": [
        "# More fine-tuning, since the learning rate and number of estimators were at\n",
        "#  the top of the range\n",
        "\n",
        "param_grid = {\n",
        "    'estimator__max_depth': [15, 20, 25],\n",
        "    'n_estimators': [6,7,8,9,10],\n",
        "    'learning_rate': [0.01,0.012,0.014,0.016]\n",
        "}\n",
        "\n",
        "grid_cv = GridSearchCV(AdaBoostRegressor(DecisionTreeRegressor()), \n",
        "                           param_grid=param_grid,\n",
        "                           cv=5,\n",
        "                           verbose = 0.5)\n",
        "\n",
        "grid_cv.fit(X_train, y_train)\n",
        "\n",
        "print(grid_cv.best_params_)"
      ],
      "metadata": {
        "colab": {
          "base_uri": "https://localhost:8080/"
        },
        "id": "1MOIhJFHCIfE",
        "outputId": "accc9068-7cd5-41c9-b088-51764cef9a8a"
      },
      "execution_count": 17,
      "outputs": [
        {
          "output_type": "stream",
          "name": "stdout",
          "text": [
            "Fitting 5 folds for each of 60 candidates, totalling 300 fits\n",
            "{'estimator__max_depth': 15, 'learning_rate': 0.014, 'n_estimators': 6}\n"
          ]
        }
      ]
    },
    {
      "cell_type": "code",
      "source": [
        "# Get validation set error\n",
        "\n",
        "reg = DecisionTreeRegressor(max_depth = 15)\n",
        "\n",
        "ada_reg = AdaBoostRegressor(estimator = reg,\n",
        "                            learning_rate = 0.014, \n",
        "                            n_estimators = 6)\n",
        "model = ada_reg.fit(X_train_train, y_train_train)\n",
        "pred = model.predict(X_val)\n",
        "\n",
        "print('rmse is', np.sqrt(mse(pred, y_val)))"
      ],
      "metadata": {
        "colab": {
          "base_uri": "https://localhost:8080/"
        },
        "id": "h8qtRbz1HX3h",
        "outputId": "e1eeaad8-4338-4c5e-f2e4-cba327d4d367"
      },
      "execution_count": 19,
      "outputs": [
        {
          "output_type": "stream",
          "name": "stdout",
          "text": [
            "rmse is 29.978466308625\n"
          ]
        }
      ]
    },
    {
      "cell_type": "code",
      "source": [
        "# Get test set error for best AdaBoostRegressor model\n",
        "\n",
        "reg = DecisionTreeRegressor(max_depth = 20)\n",
        "\n",
        "ada_reg = AdaBoostRegressor(estimator = reg,\n",
        "                            learning_rate = 0.012,\n",
        "                            n_estimators = 7)\n",
        "model = ada_reg.fit(X_train, y_train)\n",
        "pred = model.predict(X_test)\n",
        "\n",
        "print('rmse is', np.sqrt(mse(pred, y_test)))"
      ],
      "metadata": {
        "colab": {
          "base_uri": "https://localhost:8080/"
        },
        "id": "YTtAYlwGH7O8",
        "outputId": "1e1b19af-493a-4fac-97ee-183d4c02fc70"
      },
      "execution_count": 21,
      "outputs": [
        {
          "output_type": "stream",
          "name": "stdout",
          "text": [
            "rmse is 30.775344826785577\n"
          ]
        }
      ]
    },
    {
      "cell_type": "markdown",
      "source": [
        "# XGBoost regressor"
      ],
      "metadata": {
        "id": "7sHmgIfKwjLF"
      }
    },
    {
      "cell_type": "code",
      "source": [
        "import xgboost as xgb\n",
        "from xgboost import XGBRegressor\n",
        "from sklearn.metrics import mean_squared_error as mse\n",
        "from sklearn.model_selection import GridSearchCV\n",
        "\n",
        "# XGBoost model with default hyperparameters\n",
        "\n",
        "reg = XGBRegressor(objective='reg:squarederror')\n",
        "model = reg.fit(X_train_train, y_train_train) \n",
        "pred = model.predict(X_val)"
      ],
      "metadata": {
        "id": "Zh7JBbJe1qvB"
      },
      "execution_count": 8,
      "outputs": []
    },
    {
      "cell_type": "code",
      "source": [
        "# Check error on the validation set\n",
        "\n",
        "print('rmse for XGBoost is', np.sqrt(mse(pred, y_val)))"
      ],
      "metadata": {
        "colab": {
          "base_uri": "https://localhost:8080/"
        },
        "id": "h6jlu-PD5l3u",
        "outputId": "c889fbed-6419-43b8-8b60-57552416a924"
      },
      "execution_count": 5,
      "outputs": [
        {
          "output_type": "stream",
          "name": "stdout",
          "text": [
            "rmse for XGBoost is 23.906570508153127\n"
          ]
        }
      ]
    },
    {
      "cell_type": "code",
      "source": [
        "# Tune hyperparameters for XGBoost regressor\n",
        "\n",
        "param_grid = {'max_depth': [3,6,10],\n",
        "           'learning_rate': [0.01, 0.05, 0.1],\n",
        "           'n_estimators': [100, 200, 500],\n",
        "           'colsample_bytree': [0.3, 0.7]}\n",
        "\n",
        "grid_cv = GridSearchCV(XGBRegressor(), \n",
        "                   param_grid=param_grid,\n",
        "                   scoring='neg_mean_squared_error',\n",
        "                   cv = 5, \n",
        "                   verbose = 0.5)\n",
        "\n",
        "grid_cv.fit(X_train, y_train)\n",
        "\n",
        "print(grid_cv.best_params_)"
      ],
      "metadata": {
        "colab": {
          "base_uri": "https://localhost:8080/"
        },
        "id": "wwb1p-H4LROU",
        "outputId": "ba6d315d-32e0-4250-8368-de65c9f36cdb"
      },
      "execution_count": 9,
      "outputs": [
        {
          "output_type": "stream",
          "name": "stdout",
          "text": [
            "Fitting 5 folds for each of 54 candidates, totalling 270 fits\n",
            "{'colsample_bytree': 0.7, 'learning_rate': 0.1, 'max_depth': 6, 'n_estimators': 500}\n"
          ]
        }
      ]
    },
    {
      "cell_type": "code",
      "source": [
        "# Check validation set error\n",
        "\n",
        "reg = XGBRegressor(objective='reg:squarederror', \n",
        "                   max_depth=6,\n",
        "                   learning_rate=0.1,\n",
        "                   n_estimators=500,\n",
        "                   colsample_bytree=0.7)\n",
        "model = reg.fit(X_train_train, y_train_train)\n",
        "pred = model.predict(X_val)\n",
        "\n",
        "print('rmse is', np.sqrt(mse(pred, y_val)))"
      ],
      "metadata": {
        "colab": {
          "base_uri": "https://localhost:8080/"
        },
        "id": "TR-bXhIZ2E8a",
        "outputId": "8e4b17d4-0cbc-4a8f-e37f-a7aeb4ab7669"
      },
      "execution_count": 10,
      "outputs": [
        {
          "output_type": "stream",
          "name": "stdout",
          "text": [
            "rmse is 24.700572966588467\n"
          ]
        }
      ]
    },
    {
      "cell_type": "code",
      "source": [
        "# Test another set of hyperparameters\n",
        "\n",
        "param_grid = {'max_depth': [3,6,10],\n",
        "           'learning_rate': [0.1, 0.3, 0.5],\n",
        "           'n_estimators': [100, 200],\n",
        "           'colsample_bytree': [0.3, 0.7, 1]}\n",
        "\n",
        "grid_cv = GridSearchCV(XGBRegressor(), \n",
        "                   param_grid=param_grid,\n",
        "                   scoring='neg_mean_squared_error',\n",
        "                   cv = 5, \n",
        "                   verbose = 0.5)\n",
        "\n",
        "grid_cv.fit(X_train, y_train)\n",
        "\n",
        "print(grid_cv.best_params_)"
      ],
      "metadata": {
        "colab": {
          "base_uri": "https://localhost:8080/"
        },
        "id": "kSpDZb163CQZ",
        "outputId": "06b5a316-222b-4f14-d925-411e980a901a"
      },
      "execution_count": 12,
      "outputs": [
        {
          "output_type": "stream",
          "name": "stdout",
          "text": [
            "Fitting 5 folds for each of 54 candidates, totalling 270 fits\n",
            "{'colsample_bytree': 1, 'learning_rate': 0.3, 'max_depth': 6, 'n_estimators': 200}\n"
          ]
        }
      ]
    },
    {
      "cell_type": "code",
      "source": [
        "# Check validation set error on best parameters\n",
        "\n",
        "reg = XGBRegressor(objective='reg:squarederror',\n",
        "                   colsample_bytree = 1,\n",
        "                   learning_rate=0.3,\n",
        "                   max_depth=6,\n",
        "                   n_estimators=200)\n",
        "model = reg.fit(X_train_train, y_train_train)\n",
        "pred = model.predict(X_val)\n",
        "\n",
        "print('rmse is', np.sqrt(mse(pred, y_val)))"
      ],
      "metadata": {
        "colab": {
          "base_uri": "https://localhost:8080/"
        },
        "id": "Ah6PGj9NIKsN",
        "outputId": "944451c6-6566-4bf9-c4c1-b0b6ea3835f5"
      },
      "execution_count": 13,
      "outputs": [
        {
          "output_type": "stream",
          "name": "stdout",
          "text": [
            "rmse is 23.4962306602724\n"
          ]
        }
      ]
    },
    {
      "cell_type": "code",
      "source": [
        "# Check test set error\n",
        "\n",
        "reg = XGBRegressor(objective='reg:squarederror',\n",
        "                   colsample_bytree = 1,\n",
        "                   learning_rate=0.3,\n",
        "                   max_depth=6,\n",
        "                   n_estimators=200)\n",
        "model = reg.fit(X_train, y_train)\n",
        "pred = model.predict(X_test)\n",
        "\n",
        "print('rmse is', np.sqrt(mse(pred, y_test)))"
      ],
      "metadata": {
        "colab": {
          "base_uri": "https://localhost:8080/"
        },
        "id": "IhBY09GnI8N-",
        "outputId": "401df131-05ee-4834-9c5d-0b4f49beacda"
      },
      "execution_count": 14,
      "outputs": [
        {
          "output_type": "stream",
          "name": "stdout",
          "text": [
            "rmse is 25.80222270606728\n"
          ]
        }
      ]
    }
  ]
}